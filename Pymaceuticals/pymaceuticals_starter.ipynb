{
 "cells": [
  {
   "cell_type": "markdown",
   "metadata": {},
   "source": [
    "## Observations and Insights "
   ]
  },
  {
   "cell_type": "markdown",
   "metadata": {},
   "source": []
  },
  {
   "cell_type": "code",
   "execution_count": 1,
   "metadata": {},
   "outputs": [
    {
     "output_type": "execute_result",
     "data": {
      "text/plain": [
       "   Mouse ID Drug Regimen     Sex  Age_months  Weight (g)  Timepoint  \\\n",
       "0      b128    Capomulin  Female           9          22          0   \n",
       "1      b128    Capomulin  Female           9          22          5   \n",
       "2      b128    Capomulin  Female           9          22         10   \n",
       "3      b128    Capomulin  Female           9          22         15   \n",
       "4      b128    Capomulin  Female           9          22         20   \n",
       "5      b128    Capomulin  Female           9          22         25   \n",
       "6      b128    Capomulin  Female           9          22         30   \n",
       "7      b128    Capomulin  Female           9          22         35   \n",
       "8      b128    Capomulin  Female           9          22         40   \n",
       "9      b128    Capomulin  Female           9          22         45   \n",
       "10     f932     Ketapril    Male          15          29          0   \n",
       "11     g107     Ketapril  Female           2          29          0   \n",
       "12     g107     Ketapril  Female           2          29          5   \n",
       "13     g107     Ketapril  Female           2          29         10   \n",
       "14     g107     Ketapril  Female           2          29         15   \n",
       "15     g107     Ketapril  Female           2          29         20   \n",
       "16     g107     Ketapril  Female           2          29         25   \n",
       "17     g107     Ketapril  Female           2          29         30   \n",
       "18     g107     Ketapril  Female           2          29         35   \n",
       "19     a457     Ketapril  Female          11          30          0   \n",
       "20     a457     Ketapril  Female          11          30          5   \n",
       "21     a457     Ketapril  Female          11          30         10   \n",
       "22     c819     Ketapril    Male          21          25          0   \n",
       "23     c819     Ketapril    Male          21          25          5   \n",
       "24     c819     Ketapril    Male          21          25         10   \n",
       "25     c819     Ketapril    Male          21          25         15   \n",
       "26     c819     Ketapril    Male          21          25         20   \n",
       "27     c819     Ketapril    Male          21          25         25   \n",
       "28     c819     Ketapril    Male          21          25         30   \n",
       "29     c819     Ketapril    Male          21          25         35   \n",
       "30     c819     Ketapril    Male          21          25         40   \n",
       "31     h246     Ketapril    Male          13          30          0   \n",
       "32     h246     Ketapril    Male          13          30          5   \n",
       "33     h246     Ketapril    Male          13          30         10   \n",
       "34     h246     Ketapril    Male          13          30         15   \n",
       "35     h246     Ketapril    Male          13          30         20   \n",
       "36     h246     Ketapril    Male          13          30         25   \n",
       "37     h246     Ketapril    Male          13          30         30   \n",
       "38     h246     Ketapril    Male          13          30         35   \n",
       "39     h246     Ketapril    Male          13          30         40   \n",
       "40     h246     Ketapril    Male          13          30         45   \n",
       "41     p189     Ketapril    Male           8          28          0   \n",
       "42     p189     Ketapril    Male           8          28          5   \n",
       "43     p189     Ketapril    Male           8          28         10   \n",
       "44     p189     Ketapril    Male           8          28         15   \n",
       "45     p189     Ketapril    Male           8          28         20   \n",
       "46     p189     Ketapril    Male           8          28         25   \n",
       "47     p189     Ketapril    Male           8          28         30   \n",
       "48     p189     Ketapril    Male           8          28         35   \n",
       "49     p189     Ketapril    Male           8          28         40   \n",
       "50     p189     Ketapril    Male           8          28         45   \n",
       "51     n923     Ketapril    Male          19          30          0   \n",
       "52     n923     Ketapril    Male          19          30          5   \n",
       "53     n923     Ketapril    Male          19          30         10   \n",
       "54     n923     Ketapril    Male          19          30         15   \n",
       "55     n923     Ketapril    Male          19          30         20   \n",
       "56     n923     Ketapril    Male          19          30         25   \n",
       "57     n923     Ketapril    Male          19          30         30   \n",
       "58     n923     Ketapril    Male          19          30         35   \n",
       "59     n923     Ketapril    Male          19          30         40   \n",
       "\n",
       "    Tumor Volume (mm3)  Metastatic Sites  \n",
       "0            45.000000                 0  \n",
       "1            45.651331                 0  \n",
       "2            43.270852                 0  \n",
       "3            43.784893                 0  \n",
       "4            42.731552                 0  \n",
       "5            43.262145                 1  \n",
       "6            40.605335                 1  \n",
       "7            37.967644                 1  \n",
       "8            38.379726                 2  \n",
       "9            38.982878                 2  \n",
       "10           45.000000                 0  \n",
       "11           45.000000                 0  \n",
       "12           48.791665                 0  \n",
       "13           53.435987                 0  \n",
       "14           58.135545                 0  \n",
       "15           62.706031                 0  \n",
       "16           64.663626                 0  \n",
       "17           69.160520                 0  \n",
       "18           71.905117                 0  \n",
       "19           45.000000                 0  \n",
       "20           47.462891                 0  \n",
       "21           49.783419                 0  \n",
       "22           45.000000                 0  \n",
       "23           45.769249                 1  \n",
       "24           46.658395                 1  \n",
       "25           48.370999                 1  \n",
       "26           49.762415                 1  \n",
       "27           51.828357                 1  \n",
       "28           56.098998                 1  \n",
       "29           57.729535                 1  \n",
       "30           62.175705                 1  \n",
       "31           45.000000                 0  \n",
       "32           49.470417                 0  \n",
       "33           51.368862                 1  \n",
       "34           56.184327                 1  \n",
       "35           57.935912                 1  \n",
       "36           59.548854                 1  \n",
       "37           63.599610                 1  \n",
       "38           67.211270                 2  \n",
       "39           71.150835                 2  \n",
       "40           74.104086                 2  \n",
       "41           45.000000                 0  \n",
       "42           49.048707                 1  \n",
       "43           51.582162                 2  \n",
       "44           53.675542                 2  \n",
       "45           56.530204                 3  \n",
       "46           62.108960                 3  \n",
       "47           67.104537                 4  \n",
       "48           67.873777                 4  \n",
       "49           74.106091                 4  \n",
       "50           75.294936                 4  \n",
       "51           45.000000                 0  \n",
       "52           45.824881                 0  \n",
       "53           48.791950                 1  \n",
       "54           51.738706                 1  \n",
       "55           52.599206                 1  \n",
       "56           56.855465                 2  \n",
       "57           59.632561                 3  \n",
       "58           60.356294                 3  \n",
       "59           66.229606                 3  "
      ],
      "text/html": "<div>\n<style scoped>\n    .dataframe tbody tr th:only-of-type {\n        vertical-align: middle;\n    }\n\n    .dataframe tbody tr th {\n        vertical-align: top;\n    }\n\n    .dataframe thead th {\n        text-align: right;\n    }\n</style>\n<table border=\"1\" class=\"dataframe\">\n  <thead>\n    <tr style=\"text-align: right;\">\n      <th></th>\n      <th>Mouse ID</th>\n      <th>Drug Regimen</th>\n      <th>Sex</th>\n      <th>Age_months</th>\n      <th>Weight (g)</th>\n      <th>Timepoint</th>\n      <th>Tumor Volume (mm3)</th>\n      <th>Metastatic Sites</th>\n    </tr>\n  </thead>\n  <tbody>\n    <tr>\n      <th>0</th>\n      <td>b128</td>\n      <td>Capomulin</td>\n      <td>Female</td>\n      <td>9</td>\n      <td>22</td>\n      <td>0</td>\n      <td>45.000000</td>\n      <td>0</td>\n    </tr>\n    <tr>\n      <th>1</th>\n      <td>b128</td>\n      <td>Capomulin</td>\n      <td>Female</td>\n      <td>9</td>\n      <td>22</td>\n      <td>5</td>\n      <td>45.651331</td>\n      <td>0</td>\n    </tr>\n    <tr>\n      <th>2</th>\n      <td>b128</td>\n      <td>Capomulin</td>\n      <td>Female</td>\n      <td>9</td>\n      <td>22</td>\n      <td>10</td>\n      <td>43.270852</td>\n      <td>0</td>\n    </tr>\n    <tr>\n      <th>3</th>\n      <td>b128</td>\n      <td>Capomulin</td>\n      <td>Female</td>\n      <td>9</td>\n      <td>22</td>\n      <td>15</td>\n      <td>43.784893</td>\n      <td>0</td>\n    </tr>\n    <tr>\n      <th>4</th>\n      <td>b128</td>\n      <td>Capomulin</td>\n      <td>Female</td>\n      <td>9</td>\n      <td>22</td>\n      <td>20</td>\n      <td>42.731552</td>\n      <td>0</td>\n    </tr>\n    <tr>\n      <th>5</th>\n      <td>b128</td>\n      <td>Capomulin</td>\n      <td>Female</td>\n      <td>9</td>\n      <td>22</td>\n      <td>25</td>\n      <td>43.262145</td>\n      <td>1</td>\n    </tr>\n    <tr>\n      <th>6</th>\n      <td>b128</td>\n      <td>Capomulin</td>\n      <td>Female</td>\n      <td>9</td>\n      <td>22</td>\n      <td>30</td>\n      <td>40.605335</td>\n      <td>1</td>\n    </tr>\n    <tr>\n      <th>7</th>\n      <td>b128</td>\n      <td>Capomulin</td>\n      <td>Female</td>\n      <td>9</td>\n      <td>22</td>\n      <td>35</td>\n      <td>37.967644</td>\n      <td>1</td>\n    </tr>\n    <tr>\n      <th>8</th>\n      <td>b128</td>\n      <td>Capomulin</td>\n      <td>Female</td>\n      <td>9</td>\n      <td>22</td>\n      <td>40</td>\n      <td>38.379726</td>\n      <td>2</td>\n    </tr>\n    <tr>\n      <th>9</th>\n      <td>b128</td>\n      <td>Capomulin</td>\n      <td>Female</td>\n      <td>9</td>\n      <td>22</td>\n      <td>45</td>\n      <td>38.982878</td>\n      <td>2</td>\n    </tr>\n    <tr>\n      <th>10</th>\n      <td>f932</td>\n      <td>Ketapril</td>\n      <td>Male</td>\n      <td>15</td>\n      <td>29</td>\n      <td>0</td>\n      <td>45.000000</td>\n      <td>0</td>\n    </tr>\n    <tr>\n      <th>11</th>\n      <td>g107</td>\n      <td>Ketapril</td>\n      <td>Female</td>\n      <td>2</td>\n      <td>29</td>\n      <td>0</td>\n      <td>45.000000</td>\n      <td>0</td>\n    </tr>\n    <tr>\n      <th>12</th>\n      <td>g107</td>\n      <td>Ketapril</td>\n      <td>Female</td>\n      <td>2</td>\n      <td>29</td>\n      <td>5</td>\n      <td>48.791665</td>\n      <td>0</td>\n    </tr>\n    <tr>\n      <th>13</th>\n      <td>g107</td>\n      <td>Ketapril</td>\n      <td>Female</td>\n      <td>2</td>\n      <td>29</td>\n      <td>10</td>\n      <td>53.435987</td>\n      <td>0</td>\n    </tr>\n    <tr>\n      <th>14</th>\n      <td>g107</td>\n      <td>Ketapril</td>\n      <td>Female</td>\n      <td>2</td>\n      <td>29</td>\n      <td>15</td>\n      <td>58.135545</td>\n      <td>0</td>\n    </tr>\n    <tr>\n      <th>15</th>\n      <td>g107</td>\n      <td>Ketapril</td>\n      <td>Female</td>\n      <td>2</td>\n      <td>29</td>\n      <td>20</td>\n      <td>62.706031</td>\n      <td>0</td>\n    </tr>\n    <tr>\n      <th>16</th>\n      <td>g107</td>\n      <td>Ketapril</td>\n      <td>Female</td>\n      <td>2</td>\n      <td>29</td>\n      <td>25</td>\n      <td>64.663626</td>\n      <td>0</td>\n    </tr>\n    <tr>\n      <th>17</th>\n      <td>g107</td>\n      <td>Ketapril</td>\n      <td>Female</td>\n      <td>2</td>\n      <td>29</td>\n      <td>30</td>\n      <td>69.160520</td>\n      <td>0</td>\n    </tr>\n    <tr>\n      <th>18</th>\n      <td>g107</td>\n      <td>Ketapril</td>\n      <td>Female</td>\n      <td>2</td>\n      <td>29</td>\n      <td>35</td>\n      <td>71.905117</td>\n      <td>0</td>\n    </tr>\n    <tr>\n      <th>19</th>\n      <td>a457</td>\n      <td>Ketapril</td>\n      <td>Female</td>\n      <td>11</td>\n      <td>30</td>\n      <td>0</td>\n      <td>45.000000</td>\n      <td>0</td>\n    </tr>\n    <tr>\n      <th>20</th>\n      <td>a457</td>\n      <td>Ketapril</td>\n      <td>Female</td>\n      <td>11</td>\n      <td>30</td>\n      <td>5</td>\n      <td>47.462891</td>\n      <td>0</td>\n    </tr>\n    <tr>\n      <th>21</th>\n      <td>a457</td>\n      <td>Ketapril</td>\n      <td>Female</td>\n      <td>11</td>\n      <td>30</td>\n      <td>10</td>\n      <td>49.783419</td>\n      <td>0</td>\n    </tr>\n    <tr>\n      <th>22</th>\n      <td>c819</td>\n      <td>Ketapril</td>\n      <td>Male</td>\n      <td>21</td>\n      <td>25</td>\n      <td>0</td>\n      <td>45.000000</td>\n      <td>0</td>\n    </tr>\n    <tr>\n      <th>23</th>\n      <td>c819</td>\n      <td>Ketapril</td>\n      <td>Male</td>\n      <td>21</td>\n      <td>25</td>\n      <td>5</td>\n      <td>45.769249</td>\n      <td>1</td>\n    </tr>\n    <tr>\n      <th>24</th>\n      <td>c819</td>\n      <td>Ketapril</td>\n      <td>Male</td>\n      <td>21</td>\n      <td>25</td>\n      <td>10</td>\n      <td>46.658395</td>\n      <td>1</td>\n    </tr>\n    <tr>\n      <th>25</th>\n      <td>c819</td>\n      <td>Ketapril</td>\n      <td>Male</td>\n      <td>21</td>\n      <td>25</td>\n      <td>15</td>\n      <td>48.370999</td>\n      <td>1</td>\n    </tr>\n    <tr>\n      <th>26</th>\n      <td>c819</td>\n      <td>Ketapril</td>\n      <td>Male</td>\n      <td>21</td>\n      <td>25</td>\n      <td>20</td>\n      <td>49.762415</td>\n      <td>1</td>\n    </tr>\n    <tr>\n      <th>27</th>\n      <td>c819</td>\n      <td>Ketapril</td>\n      <td>Male</td>\n      <td>21</td>\n      <td>25</td>\n      <td>25</td>\n      <td>51.828357</td>\n      <td>1</td>\n    </tr>\n    <tr>\n      <th>28</th>\n      <td>c819</td>\n      <td>Ketapril</td>\n      <td>Male</td>\n      <td>21</td>\n      <td>25</td>\n      <td>30</td>\n      <td>56.098998</td>\n      <td>1</td>\n    </tr>\n    <tr>\n      <th>29</th>\n      <td>c819</td>\n      <td>Ketapril</td>\n      <td>Male</td>\n      <td>21</td>\n      <td>25</td>\n      <td>35</td>\n      <td>57.729535</td>\n      <td>1</td>\n    </tr>\n    <tr>\n      <th>30</th>\n      <td>c819</td>\n      <td>Ketapril</td>\n      <td>Male</td>\n      <td>21</td>\n      <td>25</td>\n      <td>40</td>\n      <td>62.175705</td>\n      <td>1</td>\n    </tr>\n    <tr>\n      <th>31</th>\n      <td>h246</td>\n      <td>Ketapril</td>\n      <td>Male</td>\n      <td>13</td>\n      <td>30</td>\n      <td>0</td>\n      <td>45.000000</td>\n      <td>0</td>\n    </tr>\n    <tr>\n      <th>32</th>\n      <td>h246</td>\n      <td>Ketapril</td>\n      <td>Male</td>\n      <td>13</td>\n      <td>30</td>\n      <td>5</td>\n      <td>49.470417</td>\n      <td>0</td>\n    </tr>\n    <tr>\n      <th>33</th>\n      <td>h246</td>\n      <td>Ketapril</td>\n      <td>Male</td>\n      <td>13</td>\n      <td>30</td>\n      <td>10</td>\n      <td>51.368862</td>\n      <td>1</td>\n    </tr>\n    <tr>\n      <th>34</th>\n      <td>h246</td>\n      <td>Ketapril</td>\n      <td>Male</td>\n      <td>13</td>\n      <td>30</td>\n      <td>15</td>\n      <td>56.184327</td>\n      <td>1</td>\n    </tr>\n    <tr>\n      <th>35</th>\n      <td>h246</td>\n      <td>Ketapril</td>\n      <td>Male</td>\n      <td>13</td>\n      <td>30</td>\n      <td>20</td>\n      <td>57.935912</td>\n      <td>1</td>\n    </tr>\n    <tr>\n      <th>36</th>\n      <td>h246</td>\n      <td>Ketapril</td>\n      <td>Male</td>\n      <td>13</td>\n      <td>30</td>\n      <td>25</td>\n      <td>59.548854</td>\n      <td>1</td>\n    </tr>\n    <tr>\n      <th>37</th>\n      <td>h246</td>\n      <td>Ketapril</td>\n      <td>Male</td>\n      <td>13</td>\n      <td>30</td>\n      <td>30</td>\n      <td>63.599610</td>\n      <td>1</td>\n    </tr>\n    <tr>\n      <th>38</th>\n      <td>h246</td>\n      <td>Ketapril</td>\n      <td>Male</td>\n      <td>13</td>\n      <td>30</td>\n      <td>35</td>\n      <td>67.211270</td>\n      <td>2</td>\n    </tr>\n    <tr>\n      <th>39</th>\n      <td>h246</td>\n      <td>Ketapril</td>\n      <td>Male</td>\n      <td>13</td>\n      <td>30</td>\n      <td>40</td>\n      <td>71.150835</td>\n      <td>2</td>\n    </tr>\n    <tr>\n      <th>40</th>\n      <td>h246</td>\n      <td>Ketapril</td>\n      <td>Male</td>\n      <td>13</td>\n      <td>30</td>\n      <td>45</td>\n      <td>74.104086</td>\n      <td>2</td>\n    </tr>\n    <tr>\n      <th>41</th>\n      <td>p189</td>\n      <td>Ketapril</td>\n      <td>Male</td>\n      <td>8</td>\n      <td>28</td>\n      <td>0</td>\n      <td>45.000000</td>\n      <td>0</td>\n    </tr>\n    <tr>\n      <th>42</th>\n      <td>p189</td>\n      <td>Ketapril</td>\n      <td>Male</td>\n      <td>8</td>\n      <td>28</td>\n      <td>5</td>\n      <td>49.048707</td>\n      <td>1</td>\n    </tr>\n    <tr>\n      <th>43</th>\n      <td>p189</td>\n      <td>Ketapril</td>\n      <td>Male</td>\n      <td>8</td>\n      <td>28</td>\n      <td>10</td>\n      <td>51.582162</td>\n      <td>2</td>\n    </tr>\n    <tr>\n      <th>44</th>\n      <td>p189</td>\n      <td>Ketapril</td>\n      <td>Male</td>\n      <td>8</td>\n      <td>28</td>\n      <td>15</td>\n      <td>53.675542</td>\n      <td>2</td>\n    </tr>\n    <tr>\n      <th>45</th>\n      <td>p189</td>\n      <td>Ketapril</td>\n      <td>Male</td>\n      <td>8</td>\n      <td>28</td>\n      <td>20</td>\n      <td>56.530204</td>\n      <td>3</td>\n    </tr>\n    <tr>\n      <th>46</th>\n      <td>p189</td>\n      <td>Ketapril</td>\n      <td>Male</td>\n      <td>8</td>\n      <td>28</td>\n      <td>25</td>\n      <td>62.108960</td>\n      <td>3</td>\n    </tr>\n    <tr>\n      <th>47</th>\n      <td>p189</td>\n      <td>Ketapril</td>\n      <td>Male</td>\n      <td>8</td>\n      <td>28</td>\n      <td>30</td>\n      <td>67.104537</td>\n      <td>4</td>\n    </tr>\n    <tr>\n      <th>48</th>\n      <td>p189</td>\n      <td>Ketapril</td>\n      <td>Male</td>\n      <td>8</td>\n      <td>28</td>\n      <td>35</td>\n      <td>67.873777</td>\n      <td>4</td>\n    </tr>\n    <tr>\n      <th>49</th>\n      <td>p189</td>\n      <td>Ketapril</td>\n      <td>Male</td>\n      <td>8</td>\n      <td>28</td>\n      <td>40</td>\n      <td>74.106091</td>\n      <td>4</td>\n    </tr>\n    <tr>\n      <th>50</th>\n      <td>p189</td>\n      <td>Ketapril</td>\n      <td>Male</td>\n      <td>8</td>\n      <td>28</td>\n      <td>45</td>\n      <td>75.294936</td>\n      <td>4</td>\n    </tr>\n    <tr>\n      <th>51</th>\n      <td>n923</td>\n      <td>Ketapril</td>\n      <td>Male</td>\n      <td>19</td>\n      <td>30</td>\n      <td>0</td>\n      <td>45.000000</td>\n      <td>0</td>\n    </tr>\n    <tr>\n      <th>52</th>\n      <td>n923</td>\n      <td>Ketapril</td>\n      <td>Male</td>\n      <td>19</td>\n      <td>30</td>\n      <td>5</td>\n      <td>45.824881</td>\n      <td>0</td>\n    </tr>\n    <tr>\n      <th>53</th>\n      <td>n923</td>\n      <td>Ketapril</td>\n      <td>Male</td>\n      <td>19</td>\n      <td>30</td>\n      <td>10</td>\n      <td>48.791950</td>\n      <td>1</td>\n    </tr>\n    <tr>\n      <th>54</th>\n      <td>n923</td>\n      <td>Ketapril</td>\n      <td>Male</td>\n      <td>19</td>\n      <td>30</td>\n      <td>15</td>\n      <td>51.738706</td>\n      <td>1</td>\n    </tr>\n    <tr>\n      <th>55</th>\n      <td>n923</td>\n      <td>Ketapril</td>\n      <td>Male</td>\n      <td>19</td>\n      <td>30</td>\n      <td>20</td>\n      <td>52.599206</td>\n      <td>1</td>\n    </tr>\n    <tr>\n      <th>56</th>\n      <td>n923</td>\n      <td>Ketapril</td>\n      <td>Male</td>\n      <td>19</td>\n      <td>30</td>\n      <td>25</td>\n      <td>56.855465</td>\n      <td>2</td>\n    </tr>\n    <tr>\n      <th>57</th>\n      <td>n923</td>\n      <td>Ketapril</td>\n      <td>Male</td>\n      <td>19</td>\n      <td>30</td>\n      <td>30</td>\n      <td>59.632561</td>\n      <td>3</td>\n    </tr>\n    <tr>\n      <th>58</th>\n      <td>n923</td>\n      <td>Ketapril</td>\n      <td>Male</td>\n      <td>19</td>\n      <td>30</td>\n      <td>35</td>\n      <td>60.356294</td>\n      <td>3</td>\n    </tr>\n    <tr>\n      <th>59</th>\n      <td>n923</td>\n      <td>Ketapril</td>\n      <td>Male</td>\n      <td>19</td>\n      <td>30</td>\n      <td>40</td>\n      <td>66.229606</td>\n      <td>3</td>\n    </tr>\n  </tbody>\n</table>\n</div>"
     },
     "metadata": {},
     "execution_count": 1
    }
   ],
   "source": [
    "# Dependencies and Setup\n",
    "import os\n",
    "import matplotlib.pyplot as plt\n",
    "import pandas as pd\n",
    "import scipy.stats as st\n",
    "\n",
    "# Study data files\n",
    "mouse_metadata_path = \"/Users/kellenquinn/Desktop/Matplotlib-Challenge/Matplotlib-Challenge/Pymaceuticals/Resoures/Mouse_metadata.csv\"\n",
    "study_results_path = \"/Users/kellenquinn/Desktop/Matplotlib-Challenge/Matplotlib-Challenge/Pymaceuticals/Resoures/Study_results.csv\"\n",
    "\n",
    "# Read the mouse data and the study results\n",
    "mouse_metadata = pd.read_csv(mouse_metadata_path)\n",
    "study_results = pd.read_csv(study_results_path)\n",
    "\n",
    "# Combine the data into a single dataset\n",
    "Mouse_Study_Merge=pd.merge(mouse_metadata, study_results, how=\"right\", on=\"Mouse ID\")\n",
    "# Display the data table for preview\n",
    "Mouse_Study_Merge.head(60)"
   ]
  },
  {
   "cell_type": "code",
   "execution_count": 2,
   "metadata": {},
   "outputs": [
    {
     "output_type": "stream",
     "name": "stdout",
     "text": [
      "Number of Mice: 249\n"
     ]
    }
   ],
   "source": [
    "# Checking the number of mice.\n",
    "No_of_Mice = len(pd.unique(Mouse_Study_Merge['Mouse ID']))\n",
    "print(\"Number of Mice:\", No_of_Mice)          "
   ]
  },
  {
   "cell_type": "code",
   "execution_count": 3,
   "metadata": {},
   "outputs": [
    {
     "output_type": "execute_result",
     "data": {
      "text/plain": [
       "Mouse ID  Timepoint\n",
       "g989      0            True\n",
       "          5            True\n",
       "          10           True\n",
       "          15           True\n",
       "          20           True\n",
       "dtype: bool"
      ]
     },
     "metadata": {},
     "execution_count": 3
    }
   ],
   "source": [
    "# Getting the duplicate mice by ID number that shows up for Mouse ID and Timepoint. \n",
    "Duplicate_Mice=Mouse_Study_Merge.groupby([\"Mouse ID\",\"Timepoint\"]).size()\n",
    "Duplicates=Duplicate_Mice>1\n",
    "#Duplicate_Mice.head(100)\n",
    "Duplicates.loc[Duplicates]"
   ]
  },
  {
   "cell_type": "code",
   "execution_count": 4,
   "metadata": {},
   "outputs": [
    {
     "output_type": "execute_result",
     "data": {
      "text/plain": [
       "    Mouse ID Drug Regimen     Sex  Age_months  Weight (g)  Timepoint  \\\n",
       "860     g989     Propriva  Female          21          26          0   \n",
       "861     g989     Propriva  Female          21          26          0   \n",
       "862     g989     Propriva  Female          21          26          5   \n",
       "863     g989     Propriva  Female          21          26          5   \n",
       "864     g989     Propriva  Female          21          26         10   \n",
       "865     g989     Propriva  Female          21          26         10   \n",
       "866     g989     Propriva  Female          21          26         15   \n",
       "867     g989     Propriva  Female          21          26         15   \n",
       "868     g989     Propriva  Female          21          26         20   \n",
       "869     g989     Propriva  Female          21          26         20   \n",
       "870     g989     Propriva  Female          21          26         25   \n",
       "871     g989     Propriva  Female          21          26         30   \n",
       "872     g989     Propriva  Female          21          26         35   \n",
       "\n",
       "     Tumor Volume (mm3)  Metastatic Sites  \n",
       "860           45.000000                 0  \n",
       "861           45.000000                 0  \n",
       "862           48.786801                 0  \n",
       "863           47.570392                 0  \n",
       "864           51.745156                 0  \n",
       "865           49.880528                 0  \n",
       "866           51.325852                 1  \n",
       "867           53.442020                 0  \n",
       "868           55.326122                 1  \n",
       "869           54.657650                 1  \n",
       "870           56.045564                 1  \n",
       "871           59.082294                 1  \n",
       "872           62.570880                 2  "
      ],
      "text/html": "<div>\n<style scoped>\n    .dataframe tbody tr th:only-of-type {\n        vertical-align: middle;\n    }\n\n    .dataframe tbody tr th {\n        vertical-align: top;\n    }\n\n    .dataframe thead th {\n        text-align: right;\n    }\n</style>\n<table border=\"1\" class=\"dataframe\">\n  <thead>\n    <tr style=\"text-align: right;\">\n      <th></th>\n      <th>Mouse ID</th>\n      <th>Drug Regimen</th>\n      <th>Sex</th>\n      <th>Age_months</th>\n      <th>Weight (g)</th>\n      <th>Timepoint</th>\n      <th>Tumor Volume (mm3)</th>\n      <th>Metastatic Sites</th>\n    </tr>\n  </thead>\n  <tbody>\n    <tr>\n      <th>860</th>\n      <td>g989</td>\n      <td>Propriva</td>\n      <td>Female</td>\n      <td>21</td>\n      <td>26</td>\n      <td>0</td>\n      <td>45.000000</td>\n      <td>0</td>\n    </tr>\n    <tr>\n      <th>861</th>\n      <td>g989</td>\n      <td>Propriva</td>\n      <td>Female</td>\n      <td>21</td>\n      <td>26</td>\n      <td>0</td>\n      <td>45.000000</td>\n      <td>0</td>\n    </tr>\n    <tr>\n      <th>862</th>\n      <td>g989</td>\n      <td>Propriva</td>\n      <td>Female</td>\n      <td>21</td>\n      <td>26</td>\n      <td>5</td>\n      <td>48.786801</td>\n      <td>0</td>\n    </tr>\n    <tr>\n      <th>863</th>\n      <td>g989</td>\n      <td>Propriva</td>\n      <td>Female</td>\n      <td>21</td>\n      <td>26</td>\n      <td>5</td>\n      <td>47.570392</td>\n      <td>0</td>\n    </tr>\n    <tr>\n      <th>864</th>\n      <td>g989</td>\n      <td>Propriva</td>\n      <td>Female</td>\n      <td>21</td>\n      <td>26</td>\n      <td>10</td>\n      <td>51.745156</td>\n      <td>0</td>\n    </tr>\n    <tr>\n      <th>865</th>\n      <td>g989</td>\n      <td>Propriva</td>\n      <td>Female</td>\n      <td>21</td>\n      <td>26</td>\n      <td>10</td>\n      <td>49.880528</td>\n      <td>0</td>\n    </tr>\n    <tr>\n      <th>866</th>\n      <td>g989</td>\n      <td>Propriva</td>\n      <td>Female</td>\n      <td>21</td>\n      <td>26</td>\n      <td>15</td>\n      <td>51.325852</td>\n      <td>1</td>\n    </tr>\n    <tr>\n      <th>867</th>\n      <td>g989</td>\n      <td>Propriva</td>\n      <td>Female</td>\n      <td>21</td>\n      <td>26</td>\n      <td>15</td>\n      <td>53.442020</td>\n      <td>0</td>\n    </tr>\n    <tr>\n      <th>868</th>\n      <td>g989</td>\n      <td>Propriva</td>\n      <td>Female</td>\n      <td>21</td>\n      <td>26</td>\n      <td>20</td>\n      <td>55.326122</td>\n      <td>1</td>\n    </tr>\n    <tr>\n      <th>869</th>\n      <td>g989</td>\n      <td>Propriva</td>\n      <td>Female</td>\n      <td>21</td>\n      <td>26</td>\n      <td>20</td>\n      <td>54.657650</td>\n      <td>1</td>\n    </tr>\n    <tr>\n      <th>870</th>\n      <td>g989</td>\n      <td>Propriva</td>\n      <td>Female</td>\n      <td>21</td>\n      <td>26</td>\n      <td>25</td>\n      <td>56.045564</td>\n      <td>1</td>\n    </tr>\n    <tr>\n      <th>871</th>\n      <td>g989</td>\n      <td>Propriva</td>\n      <td>Female</td>\n      <td>21</td>\n      <td>26</td>\n      <td>30</td>\n      <td>59.082294</td>\n      <td>1</td>\n    </tr>\n    <tr>\n      <th>872</th>\n      <td>g989</td>\n      <td>Propriva</td>\n      <td>Female</td>\n      <td>21</td>\n      <td>26</td>\n      <td>35</td>\n      <td>62.570880</td>\n      <td>2</td>\n    </tr>\n  </tbody>\n</table>\n</div>"
     },
     "metadata": {},
     "execution_count": 4
    }
   ],
   "source": [
    "# Optional: Get all the data for the duplicate mouse ID. \n",
    "#g989=Mouse_Study_Merge==\"Mouse ID\"=g989\n",
    "g989=Mouse_Study_Merge[\"Mouse ID\"]==\"g989\"\n",
    "Mouse_Study_Merge[g989]\n"
   ]
  },
  {
   "cell_type": "code",
   "execution_count": 5,
   "metadata": {},
   "outputs": [
    {
     "output_type": "execute_result",
     "data": {
      "text/plain": [
       "     Mouse ID Drug Regimen     Sex  Age_months  Weight (g)  Timepoint  \\\n",
       "0        b128    Capomulin  Female           9          22          0   \n",
       "1        b128    Capomulin  Female           9          22          5   \n",
       "2        b128    Capomulin  Female           9          22         10   \n",
       "3        b128    Capomulin  Female           9          22         15   \n",
       "4        b128    Capomulin  Female           9          22         20   \n",
       "...       ...          ...     ...         ...         ...        ...   \n",
       "1888     m601    Capomulin    Male          22          17         25   \n",
       "1889     m601    Capomulin    Male          22          17         30   \n",
       "1890     m601    Capomulin    Male          22          17         35   \n",
       "1891     m601    Capomulin    Male          22          17         40   \n",
       "1892     m601    Capomulin    Male          22          17         45   \n",
       "\n",
       "      Tumor Volume (mm3)  Metastatic Sites  \n",
       "0              45.000000                 0  \n",
       "1              45.651331                 0  \n",
       "2              43.270852                 0  \n",
       "3              43.784893                 0  \n",
       "4              42.731552                 0  \n",
       "...                  ...               ...  \n",
       "1888           33.118756                 1  \n",
       "1889           31.758275                 1  \n",
       "1890           30.834357                 1  \n",
       "1891           31.378045                 1  \n",
       "1892           28.430964                 1  \n",
       "\n",
       "[1880 rows x 8 columns]"
      ],
      "text/html": "<div>\n<style scoped>\n    .dataframe tbody tr th:only-of-type {\n        vertical-align: middle;\n    }\n\n    .dataframe tbody tr th {\n        vertical-align: top;\n    }\n\n    .dataframe thead th {\n        text-align: right;\n    }\n</style>\n<table border=\"1\" class=\"dataframe\">\n  <thead>\n    <tr style=\"text-align: right;\">\n      <th></th>\n      <th>Mouse ID</th>\n      <th>Drug Regimen</th>\n      <th>Sex</th>\n      <th>Age_months</th>\n      <th>Weight (g)</th>\n      <th>Timepoint</th>\n      <th>Tumor Volume (mm3)</th>\n      <th>Metastatic Sites</th>\n    </tr>\n  </thead>\n  <tbody>\n    <tr>\n      <th>0</th>\n      <td>b128</td>\n      <td>Capomulin</td>\n      <td>Female</td>\n      <td>9</td>\n      <td>22</td>\n      <td>0</td>\n      <td>45.000000</td>\n      <td>0</td>\n    </tr>\n    <tr>\n      <th>1</th>\n      <td>b128</td>\n      <td>Capomulin</td>\n      <td>Female</td>\n      <td>9</td>\n      <td>22</td>\n      <td>5</td>\n      <td>45.651331</td>\n      <td>0</td>\n    </tr>\n    <tr>\n      <th>2</th>\n      <td>b128</td>\n      <td>Capomulin</td>\n      <td>Female</td>\n      <td>9</td>\n      <td>22</td>\n      <td>10</td>\n      <td>43.270852</td>\n      <td>0</td>\n    </tr>\n    <tr>\n      <th>3</th>\n      <td>b128</td>\n      <td>Capomulin</td>\n      <td>Female</td>\n      <td>9</td>\n      <td>22</td>\n      <td>15</td>\n      <td>43.784893</td>\n      <td>0</td>\n    </tr>\n    <tr>\n      <th>4</th>\n      <td>b128</td>\n      <td>Capomulin</td>\n      <td>Female</td>\n      <td>9</td>\n      <td>22</td>\n      <td>20</td>\n      <td>42.731552</td>\n      <td>0</td>\n    </tr>\n    <tr>\n      <th>...</th>\n      <td>...</td>\n      <td>...</td>\n      <td>...</td>\n      <td>...</td>\n      <td>...</td>\n      <td>...</td>\n      <td>...</td>\n      <td>...</td>\n    </tr>\n    <tr>\n      <th>1888</th>\n      <td>m601</td>\n      <td>Capomulin</td>\n      <td>Male</td>\n      <td>22</td>\n      <td>17</td>\n      <td>25</td>\n      <td>33.118756</td>\n      <td>1</td>\n    </tr>\n    <tr>\n      <th>1889</th>\n      <td>m601</td>\n      <td>Capomulin</td>\n      <td>Male</td>\n      <td>22</td>\n      <td>17</td>\n      <td>30</td>\n      <td>31.758275</td>\n      <td>1</td>\n    </tr>\n    <tr>\n      <th>1890</th>\n      <td>m601</td>\n      <td>Capomulin</td>\n      <td>Male</td>\n      <td>22</td>\n      <td>17</td>\n      <td>35</td>\n      <td>30.834357</td>\n      <td>1</td>\n    </tr>\n    <tr>\n      <th>1891</th>\n      <td>m601</td>\n      <td>Capomulin</td>\n      <td>Male</td>\n      <td>22</td>\n      <td>17</td>\n      <td>40</td>\n      <td>31.378045</td>\n      <td>1</td>\n    </tr>\n    <tr>\n      <th>1892</th>\n      <td>m601</td>\n      <td>Capomulin</td>\n      <td>Male</td>\n      <td>22</td>\n      <td>17</td>\n      <td>45</td>\n      <td>28.430964</td>\n      <td>1</td>\n    </tr>\n  </tbody>\n</table>\n<p>1880 rows × 8 columns</p>\n</div>"
     },
     "metadata": {},
     "execution_count": 5
    }
   ],
   "source": [
    "# Create a clean DataFrame by dropping the duplicate mouse by its ID.\n",
    "Clean_Mouse=Mouse_Study_Merge[~g989]\n",
    "Clean_Mouse\n"
   ]
  },
  {
   "cell_type": "code",
   "execution_count": 6,
   "metadata": {},
   "outputs": [
    {
     "output_type": "stream",
     "name": "stdout",
     "text": [
      "Number of Mice: 248\n"
     ]
    }
   ],
   "source": [
    "# Checking the number of mice in the clean DataFrame.\n",
    "No_of_Mice_Clean= len(pd.unique(Clean_Mouse['Mouse ID']))\n",
    "print(\"Number of Mice:\", No_of_Mice_Clean)          "
   ]
  },
  {
   "cell_type": "markdown",
   "metadata": {},
   "source": [
    "## Summary Statistics"
   ]
  },
  {
   "cell_type": "code",
   "execution_count": 7,
   "metadata": {},
   "outputs": [],
   "source": [
    "# Generate a summary statistics table of mean, median, variance, standard deviation, and SEM of the tumor volume for each regimen\n",
    "\n",
    "# Use groupby and summary statistical methods to calculate the following properties of each drug regimen: \n",
    "# mean, median, variance, standard deviation, and SEM of the tumor volume. \n",
    "# Assemble the resulting series into a single summary dataframe.\n",
    "\n"
   ]
  },
  {
   "cell_type": "code",
   "execution_count": 8,
   "metadata": {},
   "outputs": [
    {
     "output_type": "execute_result",
     "data": {
      "text/plain": [
       "Drug Regimen\n",
       "Capomulin    40.68\n",
       "Ceftamin     52.59\n",
       "Infubinol    52.88\n",
       "Ketapril     55.24\n",
       "Naftisol     54.33\n",
       "Placebo      54.03\n",
       "Propriva     52.32\n",
       "Ramicane     40.22\n",
       "Stelasyn     54.23\n",
       "Zoniferol    53.24\n",
       "Name: Tumor Volume (mm3), dtype: object"
      ]
     },
     "metadata": {},
     "execution_count": 8
    }
   ],
   "source": [
    "Regimen_Mean=Clean_Mouse.groupby([\"Drug Regimen\"]).mean()[\"Tumor Volume (mm3)\"]\n",
    "Regimen_Mean.map(\"{:.2f}\".format)"
   ]
  },
  {
   "cell_type": "code",
   "execution_count": 9,
   "metadata": {},
   "outputs": [
    {
     "output_type": "execute_result",
     "data": {
      "text/plain": [
       "Drug Regimen\n",
       "Capomulin    24.95\n",
       "Ceftamin     39.29\n",
       "Infubinol    43.13\n",
       "Ketapril     68.55\n",
       "Naftisol     66.17\n",
       "Placebo      61.17\n",
       "Propriva     43.85\n",
       "Ramicane     23.49\n",
       "Stelasyn     59.45\n",
       "Zoniferol    48.53\n",
       "Name: Tumor Volume (mm3), dtype: object"
      ]
     },
     "metadata": {},
     "execution_count": 9
    }
   ],
   "source": [
    "Regimen_variance=Clean_Mouse.groupby([\"Drug Regimen\"]).var()[\"Tumor Volume (mm3)\"]\n",
    "Regimen_variance.map(\"{:.2f}\".format)"
   ]
  },
  {
   "cell_type": "code",
   "execution_count": 10,
   "metadata": {},
   "outputs": [
    {
     "output_type": "execute_result",
     "data": {
      "text/plain": [
       "Drug Regimen\n",
       "Capomulin    41.56\n",
       "Ceftamin     51.78\n",
       "Infubinol    51.82\n",
       "Ketapril     53.70\n",
       "Naftisol     52.51\n",
       "Placebo      52.29\n",
       "Propriva     50.45\n",
       "Ramicane     40.67\n",
       "Stelasyn     52.43\n",
       "Zoniferol    51.82\n",
       "Name: Tumor Volume (mm3), dtype: object"
      ]
     },
     "metadata": {},
     "execution_count": 10
    }
   ],
   "source": [
    "Regimen_median=Clean_Mouse.groupby([\"Drug Regimen\"]).median()[\"Tumor Volume (mm3)\"]\n",
    "Regimen_median.map(\"{:.2f}\".format)"
   ]
  },
  {
   "cell_type": "code",
   "execution_count": 11,
   "metadata": {},
   "outputs": [
    {
     "output_type": "execute_result",
     "data": {
      "text/plain": [
       "Drug Regimen\n",
       "Capomulin    4.99\n",
       "Ceftamin     6.27\n",
       "Infubinol    6.57\n",
       "Ketapril     8.28\n",
       "Naftisol     8.13\n",
       "Placebo      7.82\n",
       "Propriva     6.62\n",
       "Ramicane     4.85\n",
       "Stelasyn     7.71\n",
       "Zoniferol    6.97\n",
       "Name: Tumor Volume (mm3), dtype: object"
      ]
     },
     "metadata": {},
     "execution_count": 11
    }
   ],
   "source": [
    "Regimen_std=Clean_Mouse.groupby([\"Drug Regimen\"]).std()[\"Tumor Volume (mm3)\"]\n",
    "Regimen_std.map(\"{:.2f}\".format)"
   ]
  },
  {
   "cell_type": "code",
   "execution_count": 12,
   "metadata": {},
   "outputs": [
    {
     "output_type": "execute_result",
     "data": {
      "text/plain": [
       "Drug Regimen\n",
       "Capomulin    0.33\n",
       "Ceftamin     0.47\n",
       "Infubinol    0.49\n",
       "Ketapril     0.60\n",
       "Naftisol     0.60\n",
       "Placebo      0.58\n",
       "Propriva     0.54\n",
       "Ramicane     0.32\n",
       "Stelasyn     0.57\n",
       "Zoniferol    0.52\n",
       "Name: Tumor Volume (mm3), dtype: object"
      ]
     },
     "metadata": {},
     "execution_count": 12
    }
   ],
   "source": [
    "Regimen_SEM=Clean_Mouse.groupby([\"Drug Regimen\"]).sem()[\"Tumor Volume (mm3)\"]\n",
    "Regimen_SEM.map(\"{:.2f}\".format)"
   ]
  },
  {
   "cell_type": "code",
   "execution_count": 70,
   "metadata": {},
   "outputs": [
    {
     "output_type": "execute_result",
     "data": {
      "text/plain": [
       "                                        Drug Regimen  \\\n",
       "0  [Capomulin, Ketapril, Naftisol, Infubinol, Ste...   \n",
       "\n",
       "                                                Mean  \\\n",
       "0  Drug Regimen\n",
       "Capomulin    40.675741\n",
       "Ceftamin  ...   \n",
       "\n",
       "                                              Median  \\\n",
       "0  Drug Regimen\n",
       "Capomulin    41.557809\n",
       "Ceftamin  ...   \n",
       "\n",
       "                                            Variance  \\\n",
       "0  Drug Regimen\n",
       "Capomulin    24.947764\n",
       "Ceftamin  ...   \n",
       "\n",
       "                                  Standard Deviation  \\\n",
       "0  Drug Regimen\n",
       "Capomulin    4.994774\n",
       "Ceftamin   ...   \n",
       "\n",
       "                                                 SEM  \n",
       "0  Drug Regimen\n",
       "Capomulin    0.329346\n",
       "Ceftamin   ...  "
      ],
      "text/html": "<div>\n<style scoped>\n    .dataframe tbody tr th:only-of-type {\n        vertical-align: middle;\n    }\n\n    .dataframe tbody tr th {\n        vertical-align: top;\n    }\n\n    .dataframe thead th {\n        text-align: right;\n    }\n</style>\n<table border=\"1\" class=\"dataframe\">\n  <thead>\n    <tr style=\"text-align: right;\">\n      <th></th>\n      <th>Drug Regimen</th>\n      <th>Mean</th>\n      <th>Median</th>\n      <th>Variance</th>\n      <th>Standard Deviation</th>\n      <th>SEM</th>\n    </tr>\n  </thead>\n  <tbody>\n    <tr>\n      <th>0</th>\n      <td>[Capomulin, Ketapril, Naftisol, Infubinol, Ste...</td>\n      <td>Drug Regimen\nCapomulin    40.675741\nCeftamin  ...</td>\n      <td>Drug Regimen\nCapomulin    41.557809\nCeftamin  ...</td>\n      <td>Drug Regimen\nCapomulin    24.947764\nCeftamin  ...</td>\n      <td>Drug Regimen\nCapomulin    4.994774\nCeftamin   ...</td>\n      <td>Drug Regimen\nCapomulin    0.329346\nCeftamin   ...</td>\n    </tr>\n  </tbody>\n</table>\n</div>"
     },
     "metadata": {},
     "execution_count": 70
    }
   ],
   "source": [
    "# Generate a summary statistics table of mean, median, variance, standard deviation, and SEM of the tumor volume for each regimen\n",
    "Regimen_Overview=pd.DataFrame({'Drug Regimen': [by_drug], 'Mean': [Regimen_Mean],'Median': [Regimen_median],'Variance':[Regimen_variance], 'Standard Deviation': [Regimen_std], 'SEM': [Regimen_SEM]})\n",
    "Regimen_Overview.set_index('Drug Regimen')\n",
    "df.head(60)\n",
    "# Using the aggregation method, produce the same summary statistics in a single line\n"
   ]
  },
  {
   "cell_type": "markdown",
   "metadata": {},
   "source": [
    "## Bar and Pie Charts"
   ]
  },
  {
   "cell_type": "code",
   "execution_count": 75,
   "metadata": {},
   "outputs": [
    {
     "output_type": "error",
     "ename": "SyntaxError",
     "evalue": "invalid syntax (<ipython-input-75-cc6b1540d489>, line 2)",
     "traceback": [
      "\u001b[0;36m  File \u001b[0;32m\"<ipython-input-75-cc6b1540d489>\"\u001b[0;36m, line \u001b[0;32m2\u001b[0m\n\u001b[0;31m    Measurements_per_regimen=\u001b[0m\n\u001b[0m                             ^\u001b[0m\n\u001b[0;31mSyntaxError\u001b[0m\u001b[0;31m:\u001b[0m invalid syntax\n"
     ]
    }
   ],
   "source": [
    "# Generate a bar plot showing the total number of measurements taken on each drug regimen using pandas.\n",
    "Measurements_per_regimen=\n"
   ]
  },
  {
   "cell_type": "code",
   "execution_count": 15,
   "metadata": {},
   "outputs": [],
   "source": [
    "# Generate a bar plot showing the total number of measurements taken on each drug regimen using pyplot.\n",
    "\n"
   ]
  },
  {
   "cell_type": "code",
   "execution_count": 16,
   "metadata": {},
   "outputs": [],
   "source": [
    "# Generate a pie plot showing the distribution of female versus male mice using pandas\n",
    "\n"
   ]
  },
  {
   "cell_type": "code",
   "execution_count": 17,
   "metadata": {},
   "outputs": [],
   "source": [
    "# Generate a pie plot showing the distribution of female versus male mice using pyplot\n",
    "\n"
   ]
  },
  {
   "cell_type": "markdown",
   "metadata": {},
   "source": [
    "## Quartiles, Outliers and Boxplots"
   ]
  },
  {
   "cell_type": "code",
   "execution_count": 18,
   "metadata": {},
   "outputs": [],
   "source": [
    "# Calculate the final tumor volume of each mouse across four of the treatment regimens:  \n",
    "# Capomulin, Ramicane, Infubinol, and Ceftamin\n",
    "\n",
    "# Start by getting the last (greatest) timepoint for each mouse\n",
    "\n",
    "\n",
    "# Merge this group df with the original dataframe to get the tumor volume at the last timepoint\n"
   ]
  },
  {
   "cell_type": "code",
   "execution_count": 19,
   "metadata": {},
   "outputs": [],
   "source": [
    "# Put treatments into a list for for loop (and later for plot labels)\n",
    "\n",
    "\n",
    "# Create empty list to fill with tumor vol data (for plotting)\n",
    "\n",
    "\n",
    "# Calculate the IQR and quantitatively determine if there are any potential outliers. \n",
    "\n",
    "    \n",
    "    # Locate the rows which contain mice on each drug and get the tumor volumes\n",
    "    \n",
    "    \n",
    "    # add subset \n",
    "    \n",
    "    \n",
    "    # Determine outliers using upper and lower bounds\n",
    "    "
   ]
  },
  {
   "cell_type": "code",
   "execution_count": 20,
   "metadata": {},
   "outputs": [],
   "source": [
    "# Generate a box plot of the final tumor volume of each mouse across four regimens of interest\n"
   ]
  },
  {
   "cell_type": "markdown",
   "metadata": {},
   "source": [
    "## Line and Scatter Plots"
   ]
  },
  {
   "cell_type": "code",
   "execution_count": 21,
   "metadata": {},
   "outputs": [],
   "source": [
    "# Generate a line plot of tumor volume vs. time point for a mouse treated with Capomulin\n"
   ]
  },
  {
   "cell_type": "code",
   "execution_count": 22,
   "metadata": {},
   "outputs": [],
   "source": [
    "# Generate a scatter plot of average tumor volume vs. mouse weight for the Capomulin regimen\n"
   ]
  },
  {
   "cell_type": "markdown",
   "metadata": {},
   "source": [
    "## Correlation and Regression"
   ]
  },
  {
   "cell_type": "code",
   "execution_count": 23,
   "metadata": {},
   "outputs": [],
   "source": [
    "# Calculate the correlation coefficient and linear regression model \n",
    "# for mouse weight and average tumor volume for the Capomulin regimen\n"
   ]
  },
  {
   "cell_type": "code",
   "execution_count": null,
   "metadata": {},
   "outputs": [],
   "source": []
  }
 ],
 "metadata": {
  "anaconda-cloud": {},
  "kernelspec": {
   "name": "python385jvsc74a57bd0403a5d6a394a01ef26b2cc6b156171da77f8332ee7637ee8dac9f64c5d1c19b3",
   "display_name": "Python 3.8.5 64-bit ('base': conda)"
  },
  "language_info": {
   "codemirror_mode": {
    "name": "ipython",
    "version": 3
   },
   "file_extension": ".py",
   "mimetype": "text/x-python",
   "name": "python",
   "nbconvert_exporter": "python",
   "pygments_lexer": "ipython3",
   "version": "3.8.5"
  }
 },
 "nbformat": 4,
 "nbformat_minor": 4
}