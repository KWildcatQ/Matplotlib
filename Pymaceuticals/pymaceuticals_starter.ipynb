{
 "cells": [
  {
   "cell_type": "markdown",
   "metadata": {},
   "source": [
    "## Observations and Insights "
   ]
  },
  {
   "cell_type": "markdown",
   "metadata": {},
   "source": []
  },
  {
   "cell_type": "code",
   "execution_count": 48,
   "metadata": {},
   "outputs": [
    {
     "output_type": "execute_result",
     "data": {
      "text/plain": [
       "   Mouse ID Drug Regimen     Sex  Age_months  Weight (g)  Timepoint  \\\n",
       "0      b128    Capomulin  Female           9          22          0   \n",
       "1      b128    Capomulin  Female           9          22          5   \n",
       "2      b128    Capomulin  Female           9          22         10   \n",
       "3      b128    Capomulin  Female           9          22         15   \n",
       "4      b128    Capomulin  Female           9          22         20   \n",
       "5      b128    Capomulin  Female           9          22         25   \n",
       "6      b128    Capomulin  Female           9          22         30   \n",
       "7      b128    Capomulin  Female           9          22         35   \n",
       "8      b128    Capomulin  Female           9          22         40   \n",
       "9      b128    Capomulin  Female           9          22         45   \n",
       "10     f932     Ketapril    Male          15          29          0   \n",
       "11     g107     Ketapril  Female           2          29          0   \n",
       "12     g107     Ketapril  Female           2          29          5   \n",
       "13     g107     Ketapril  Female           2          29         10   \n",
       "14     g107     Ketapril  Female           2          29         15   \n",
       "15     g107     Ketapril  Female           2          29         20   \n",
       "16     g107     Ketapril  Female           2          29         25   \n",
       "17     g107     Ketapril  Female           2          29         30   \n",
       "18     g107     Ketapril  Female           2          29         35   \n",
       "19     a457     Ketapril  Female          11          30          0   \n",
       "20     a457     Ketapril  Female          11          30          5   \n",
       "21     a457     Ketapril  Female          11          30         10   \n",
       "22     c819     Ketapril    Male          21          25          0   \n",
       "23     c819     Ketapril    Male          21          25          5   \n",
       "24     c819     Ketapril    Male          21          25         10   \n",
       "25     c819     Ketapril    Male          21          25         15   \n",
       "26     c819     Ketapril    Male          21          25         20   \n",
       "27     c819     Ketapril    Male          21          25         25   \n",
       "28     c819     Ketapril    Male          21          25         30   \n",
       "29     c819     Ketapril    Male          21          25         35   \n",
       "30     c819     Ketapril    Male          21          25         40   \n",
       "31     h246     Ketapril    Male          13          30          0   \n",
       "32     h246     Ketapril    Male          13          30          5   \n",
       "33     h246     Ketapril    Male          13          30         10   \n",
       "34     h246     Ketapril    Male          13          30         15   \n",
       "35     h246     Ketapril    Male          13          30         20   \n",
       "36     h246     Ketapril    Male          13          30         25   \n",
       "37     h246     Ketapril    Male          13          30         30   \n",
       "38     h246     Ketapril    Male          13          30         35   \n",
       "39     h246     Ketapril    Male          13          30         40   \n",
       "40     h246     Ketapril    Male          13          30         45   \n",
       "41     p189     Ketapril    Male           8          28          0   \n",
       "42     p189     Ketapril    Male           8          28          5   \n",
       "43     p189     Ketapril    Male           8          28         10   \n",
       "44     p189     Ketapril    Male           8          28         15   \n",
       "45     p189     Ketapril    Male           8          28         20   \n",
       "46     p189     Ketapril    Male           8          28         25   \n",
       "47     p189     Ketapril    Male           8          28         30   \n",
       "48     p189     Ketapril    Male           8          28         35   \n",
       "49     p189     Ketapril    Male           8          28         40   \n",
       "50     p189     Ketapril    Male           8          28         45   \n",
       "51     n923     Ketapril    Male          19          30          0   \n",
       "52     n923     Ketapril    Male          19          30          5   \n",
       "53     n923     Ketapril    Male          19          30         10   \n",
       "54     n923     Ketapril    Male          19          30         15   \n",
       "55     n923     Ketapril    Male          19          30         20   \n",
       "56     n923     Ketapril    Male          19          30         25   \n",
       "57     n923     Ketapril    Male          19          30         30   \n",
       "58     n923     Ketapril    Male          19          30         35   \n",
       "59     n923     Ketapril    Male          19          30         40   \n",
       "\n",
       "    Tumor Volume (mm3)  Metastatic Sites  \n",
       "0            45.000000                 0  \n",
       "1            45.651331                 0  \n",
       "2            43.270852                 0  \n",
       "3            43.784893                 0  \n",
       "4            42.731552                 0  \n",
       "5            43.262145                 1  \n",
       "6            40.605335                 1  \n",
       "7            37.967644                 1  \n",
       "8            38.379726                 2  \n",
       "9            38.982878                 2  \n",
       "10           45.000000                 0  \n",
       "11           45.000000                 0  \n",
       "12           48.791665                 0  \n",
       "13           53.435987                 0  \n",
       "14           58.135545                 0  \n",
       "15           62.706031                 0  \n",
       "16           64.663626                 0  \n",
       "17           69.160520                 0  \n",
       "18           71.905117                 0  \n",
       "19           45.000000                 0  \n",
       "20           47.462891                 0  \n",
       "21           49.783419                 0  \n",
       "22           45.000000                 0  \n",
       "23           45.769249                 1  \n",
       "24           46.658395                 1  \n",
       "25           48.370999                 1  \n",
       "26           49.762415                 1  \n",
       "27           51.828357                 1  \n",
       "28           56.098998                 1  \n",
       "29           57.729535                 1  \n",
       "30           62.175705                 1  \n",
       "31           45.000000                 0  \n",
       "32           49.470417                 0  \n",
       "33           51.368862                 1  \n",
       "34           56.184327                 1  \n",
       "35           57.935912                 1  \n",
       "36           59.548854                 1  \n",
       "37           63.599610                 1  \n",
       "38           67.211270                 2  \n",
       "39           71.150835                 2  \n",
       "40           74.104086                 2  \n",
       "41           45.000000                 0  \n",
       "42           49.048707                 1  \n",
       "43           51.582162                 2  \n",
       "44           53.675542                 2  \n",
       "45           56.530204                 3  \n",
       "46           62.108960                 3  \n",
       "47           67.104537                 4  \n",
       "48           67.873777                 4  \n",
       "49           74.106091                 4  \n",
       "50           75.294936                 4  \n",
       "51           45.000000                 0  \n",
       "52           45.824881                 0  \n",
       "53           48.791950                 1  \n",
       "54           51.738706                 1  \n",
       "55           52.599206                 1  \n",
       "56           56.855465                 2  \n",
       "57           59.632561                 3  \n",
       "58           60.356294                 3  \n",
       "59           66.229606                 3  "
      ],
      "text/html": "<div>\n<style scoped>\n    .dataframe tbody tr th:only-of-type {\n        vertical-align: middle;\n    }\n\n    .dataframe tbody tr th {\n        vertical-align: top;\n    }\n\n    .dataframe thead th {\n        text-align: right;\n    }\n</style>\n<table border=\"1\" class=\"dataframe\">\n  <thead>\n    <tr style=\"text-align: right;\">\n      <th></th>\n      <th>Mouse ID</th>\n      <th>Drug Regimen</th>\n      <th>Sex</th>\n      <th>Age_months</th>\n      <th>Weight (g)</th>\n      <th>Timepoint</th>\n      <th>Tumor Volume (mm3)</th>\n      <th>Metastatic Sites</th>\n    </tr>\n  </thead>\n  <tbody>\n    <tr>\n      <th>0</th>\n      <td>b128</td>\n      <td>Capomulin</td>\n      <td>Female</td>\n      <td>9</td>\n      <td>22</td>\n      <td>0</td>\n      <td>45.000000</td>\n      <td>0</td>\n    </tr>\n    <tr>\n      <th>1</th>\n      <td>b128</td>\n      <td>Capomulin</td>\n      <td>Female</td>\n      <td>9</td>\n      <td>22</td>\n      <td>5</td>\n      <td>45.651331</td>\n      <td>0</td>\n    </tr>\n    <tr>\n      <th>2</th>\n      <td>b128</td>\n      <td>Capomulin</td>\n      <td>Female</td>\n      <td>9</td>\n      <td>22</td>\n      <td>10</td>\n      <td>43.270852</td>\n      <td>0</td>\n    </tr>\n    <tr>\n      <th>3</th>\n      <td>b128</td>\n      <td>Capomulin</td>\n      <td>Female</td>\n      <td>9</td>\n      <td>22</td>\n      <td>15</td>\n      <td>43.784893</td>\n      <td>0</td>\n    </tr>\n    <tr>\n      <th>4</th>\n      <td>b128</td>\n      <td>Capomulin</td>\n      <td>Female</td>\n      <td>9</td>\n      <td>22</td>\n      <td>20</td>\n      <td>42.731552</td>\n      <td>0</td>\n    </tr>\n    <tr>\n      <th>5</th>\n      <td>b128</td>\n      <td>Capomulin</td>\n      <td>Female</td>\n      <td>9</td>\n      <td>22</td>\n      <td>25</td>\n      <td>43.262145</td>\n      <td>1</td>\n    </tr>\n    <tr>\n      <th>6</th>\n      <td>b128</td>\n      <td>Capomulin</td>\n      <td>Female</td>\n      <td>9</td>\n      <td>22</td>\n      <td>30</td>\n      <td>40.605335</td>\n      <td>1</td>\n    </tr>\n    <tr>\n      <th>7</th>\n      <td>b128</td>\n      <td>Capomulin</td>\n      <td>Female</td>\n      <td>9</td>\n      <td>22</td>\n      <td>35</td>\n      <td>37.967644</td>\n      <td>1</td>\n    </tr>\n    <tr>\n      <th>8</th>\n      <td>b128</td>\n      <td>Capomulin</td>\n      <td>Female</td>\n      <td>9</td>\n      <td>22</td>\n      <td>40</td>\n      <td>38.379726</td>\n      <td>2</td>\n    </tr>\n    <tr>\n      <th>9</th>\n      <td>b128</td>\n      <td>Capomulin</td>\n      <td>Female</td>\n      <td>9</td>\n      <td>22</td>\n      <td>45</td>\n      <td>38.982878</td>\n      <td>2</td>\n    </tr>\n    <tr>\n      <th>10</th>\n      <td>f932</td>\n      <td>Ketapril</td>\n      <td>Male</td>\n      <td>15</td>\n      <td>29</td>\n      <td>0</td>\n      <td>45.000000</td>\n      <td>0</td>\n    </tr>\n    <tr>\n      <th>11</th>\n      <td>g107</td>\n      <td>Ketapril</td>\n      <td>Female</td>\n      <td>2</td>\n      <td>29</td>\n      <td>0</td>\n      <td>45.000000</td>\n      <td>0</td>\n    </tr>\n    <tr>\n      <th>12</th>\n      <td>g107</td>\n      <td>Ketapril</td>\n      <td>Female</td>\n      <td>2</td>\n      <td>29</td>\n      <td>5</td>\n      <td>48.791665</td>\n      <td>0</td>\n    </tr>\n    <tr>\n      <th>13</th>\n      <td>g107</td>\n      <td>Ketapril</td>\n      <td>Female</td>\n      <td>2</td>\n      <td>29</td>\n      <td>10</td>\n      <td>53.435987</td>\n      <td>0</td>\n    </tr>\n    <tr>\n      <th>14</th>\n      <td>g107</td>\n      <td>Ketapril</td>\n      <td>Female</td>\n      <td>2</td>\n      <td>29</td>\n      <td>15</td>\n      <td>58.135545</td>\n      <td>0</td>\n    </tr>\n    <tr>\n      <th>15</th>\n      <td>g107</td>\n      <td>Ketapril</td>\n      <td>Female</td>\n      <td>2</td>\n      <td>29</td>\n      <td>20</td>\n      <td>62.706031</td>\n      <td>0</td>\n    </tr>\n    <tr>\n      <th>16</th>\n      <td>g107</td>\n      <td>Ketapril</td>\n      <td>Female</td>\n      <td>2</td>\n      <td>29</td>\n      <td>25</td>\n      <td>64.663626</td>\n      <td>0</td>\n    </tr>\n    <tr>\n      <th>17</th>\n      <td>g107</td>\n      <td>Ketapril</td>\n      <td>Female</td>\n      <td>2</td>\n      <td>29</td>\n      <td>30</td>\n      <td>69.160520</td>\n      <td>0</td>\n    </tr>\n    <tr>\n      <th>18</th>\n      <td>g107</td>\n      <td>Ketapril</td>\n      <td>Female</td>\n      <td>2</td>\n      <td>29</td>\n      <td>35</td>\n      <td>71.905117</td>\n      <td>0</td>\n    </tr>\n    <tr>\n      <th>19</th>\n      <td>a457</td>\n      <td>Ketapril</td>\n      <td>Female</td>\n      <td>11</td>\n      <td>30</td>\n      <td>0</td>\n      <td>45.000000</td>\n      <td>0</td>\n    </tr>\n    <tr>\n      <th>20</th>\n      <td>a457</td>\n      <td>Ketapril</td>\n      <td>Female</td>\n      <td>11</td>\n      <td>30</td>\n      <td>5</td>\n      <td>47.462891</td>\n      <td>0</td>\n    </tr>\n    <tr>\n      <th>21</th>\n      <td>a457</td>\n      <td>Ketapril</td>\n      <td>Female</td>\n      <td>11</td>\n      <td>30</td>\n      <td>10</td>\n      <td>49.783419</td>\n      <td>0</td>\n    </tr>\n    <tr>\n      <th>22</th>\n      <td>c819</td>\n      <td>Ketapril</td>\n      <td>Male</td>\n      <td>21</td>\n      <td>25</td>\n      <td>0</td>\n      <td>45.000000</td>\n      <td>0</td>\n    </tr>\n    <tr>\n      <th>23</th>\n      <td>c819</td>\n      <td>Ketapril</td>\n      <td>Male</td>\n      <td>21</td>\n      <td>25</td>\n      <td>5</td>\n      <td>45.769249</td>\n      <td>1</td>\n    </tr>\n    <tr>\n      <th>24</th>\n      <td>c819</td>\n      <td>Ketapril</td>\n      <td>Male</td>\n      <td>21</td>\n      <td>25</td>\n      <td>10</td>\n      <td>46.658395</td>\n      <td>1</td>\n    </tr>\n    <tr>\n      <th>25</th>\n      <td>c819</td>\n      <td>Ketapril</td>\n      <td>Male</td>\n      <td>21</td>\n      <td>25</td>\n      <td>15</td>\n      <td>48.370999</td>\n      <td>1</td>\n    </tr>\n    <tr>\n      <th>26</th>\n      <td>c819</td>\n      <td>Ketapril</td>\n      <td>Male</td>\n      <td>21</td>\n      <td>25</td>\n      <td>20</td>\n      <td>49.762415</td>\n      <td>1</td>\n    </tr>\n    <tr>\n      <th>27</th>\n      <td>c819</td>\n      <td>Ketapril</td>\n      <td>Male</td>\n      <td>21</td>\n      <td>25</td>\n      <td>25</td>\n      <td>51.828357</td>\n      <td>1</td>\n    </tr>\n    <tr>\n      <th>28</th>\n      <td>c819</td>\n      <td>Ketapril</td>\n      <td>Male</td>\n      <td>21</td>\n      <td>25</td>\n      <td>30</td>\n      <td>56.098998</td>\n      <td>1</td>\n    </tr>\n    <tr>\n      <th>29</th>\n      <td>c819</td>\n      <td>Ketapril</td>\n      <td>Male</td>\n      <td>21</td>\n      <td>25</td>\n      <td>35</td>\n      <td>57.729535</td>\n      <td>1</td>\n    </tr>\n    <tr>\n      <th>30</th>\n      <td>c819</td>\n      <td>Ketapril</td>\n      <td>Male</td>\n      <td>21</td>\n      <td>25</td>\n      <td>40</td>\n      <td>62.175705</td>\n      <td>1</td>\n    </tr>\n    <tr>\n      <th>31</th>\n      <td>h246</td>\n      <td>Ketapril</td>\n      <td>Male</td>\n      <td>13</td>\n      <td>30</td>\n      <td>0</td>\n      <td>45.000000</td>\n      <td>0</td>\n    </tr>\n    <tr>\n      <th>32</th>\n      <td>h246</td>\n      <td>Ketapril</td>\n      <td>Male</td>\n      <td>13</td>\n      <td>30</td>\n      <td>5</td>\n      <td>49.470417</td>\n      <td>0</td>\n    </tr>\n    <tr>\n      <th>33</th>\n      <td>h246</td>\n      <td>Ketapril</td>\n      <td>Male</td>\n      <td>13</td>\n      <td>30</td>\n      <td>10</td>\n      <td>51.368862</td>\n      <td>1</td>\n    </tr>\n    <tr>\n      <th>34</th>\n      <td>h246</td>\n      <td>Ketapril</td>\n      <td>Male</td>\n      <td>13</td>\n      <td>30</td>\n      <td>15</td>\n      <td>56.184327</td>\n      <td>1</td>\n    </tr>\n    <tr>\n      <th>35</th>\n      <td>h246</td>\n      <td>Ketapril</td>\n      <td>Male</td>\n      <td>13</td>\n      <td>30</td>\n      <td>20</td>\n      <td>57.935912</td>\n      <td>1</td>\n    </tr>\n    <tr>\n      <th>36</th>\n      <td>h246</td>\n      <td>Ketapril</td>\n      <td>Male</td>\n      <td>13</td>\n      <td>30</td>\n      <td>25</td>\n      <td>59.548854</td>\n      <td>1</td>\n    </tr>\n    <tr>\n      <th>37</th>\n      <td>h246</td>\n      <td>Ketapril</td>\n      <td>Male</td>\n      <td>13</td>\n      <td>30</td>\n      <td>30</td>\n      <td>63.599610</td>\n      <td>1</td>\n    </tr>\n    <tr>\n      <th>38</th>\n      <td>h246</td>\n      <td>Ketapril</td>\n      <td>Male</td>\n      <td>13</td>\n      <td>30</td>\n      <td>35</td>\n      <td>67.211270</td>\n      <td>2</td>\n    </tr>\n    <tr>\n      <th>39</th>\n      <td>h246</td>\n      <td>Ketapril</td>\n      <td>Male</td>\n      <td>13</td>\n      <td>30</td>\n      <td>40</td>\n      <td>71.150835</td>\n      <td>2</td>\n    </tr>\n    <tr>\n      <th>40</th>\n      <td>h246</td>\n      <td>Ketapril</td>\n      <td>Male</td>\n      <td>13</td>\n      <td>30</td>\n      <td>45</td>\n      <td>74.104086</td>\n      <td>2</td>\n    </tr>\n    <tr>\n      <th>41</th>\n      <td>p189</td>\n      <td>Ketapril</td>\n      <td>Male</td>\n      <td>8</td>\n      <td>28</td>\n      <td>0</td>\n      <td>45.000000</td>\n      <td>0</td>\n    </tr>\n    <tr>\n      <th>42</th>\n      <td>p189</td>\n      <td>Ketapril</td>\n      <td>Male</td>\n      <td>8</td>\n      <td>28</td>\n      <td>5</td>\n      <td>49.048707</td>\n      <td>1</td>\n    </tr>\n    <tr>\n      <th>43</th>\n      <td>p189</td>\n      <td>Ketapril</td>\n      <td>Male</td>\n      <td>8</td>\n      <td>28</td>\n      <td>10</td>\n      <td>51.582162</td>\n      <td>2</td>\n    </tr>\n    <tr>\n      <th>44</th>\n      <td>p189</td>\n      <td>Ketapril</td>\n      <td>Male</td>\n      <td>8</td>\n      <td>28</td>\n      <td>15</td>\n      <td>53.675542</td>\n      <td>2</td>\n    </tr>\n    <tr>\n      <th>45</th>\n      <td>p189</td>\n      <td>Ketapril</td>\n      <td>Male</td>\n      <td>8</td>\n      <td>28</td>\n      <td>20</td>\n      <td>56.530204</td>\n      <td>3</td>\n    </tr>\n    <tr>\n      <th>46</th>\n      <td>p189</td>\n      <td>Ketapril</td>\n      <td>Male</td>\n      <td>8</td>\n      <td>28</td>\n      <td>25</td>\n      <td>62.108960</td>\n      <td>3</td>\n    </tr>\n    <tr>\n      <th>47</th>\n      <td>p189</td>\n      <td>Ketapril</td>\n      <td>Male</td>\n      <td>8</td>\n      <td>28</td>\n      <td>30</td>\n      <td>67.104537</td>\n      <td>4</td>\n    </tr>\n    <tr>\n      <th>48</th>\n      <td>p189</td>\n      <td>Ketapril</td>\n      <td>Male</td>\n      <td>8</td>\n      <td>28</td>\n      <td>35</td>\n      <td>67.873777</td>\n      <td>4</td>\n    </tr>\n    <tr>\n      <th>49</th>\n      <td>p189</td>\n      <td>Ketapril</td>\n      <td>Male</td>\n      <td>8</td>\n      <td>28</td>\n      <td>40</td>\n      <td>74.106091</td>\n      <td>4</td>\n    </tr>\n    <tr>\n      <th>50</th>\n      <td>p189</td>\n      <td>Ketapril</td>\n      <td>Male</td>\n      <td>8</td>\n      <td>28</td>\n      <td>45</td>\n      <td>75.294936</td>\n      <td>4</td>\n    </tr>\n    <tr>\n      <th>51</th>\n      <td>n923</td>\n      <td>Ketapril</td>\n      <td>Male</td>\n      <td>19</td>\n      <td>30</td>\n      <td>0</td>\n      <td>45.000000</td>\n      <td>0</td>\n    </tr>\n    <tr>\n      <th>52</th>\n      <td>n923</td>\n      <td>Ketapril</td>\n      <td>Male</td>\n      <td>19</td>\n      <td>30</td>\n      <td>5</td>\n      <td>45.824881</td>\n      <td>0</td>\n    </tr>\n    <tr>\n      <th>53</th>\n      <td>n923</td>\n      <td>Ketapril</td>\n      <td>Male</td>\n      <td>19</td>\n      <td>30</td>\n      <td>10</td>\n      <td>48.791950</td>\n      <td>1</td>\n    </tr>\n    <tr>\n      <th>54</th>\n      <td>n923</td>\n      <td>Ketapril</td>\n      <td>Male</td>\n      <td>19</td>\n      <td>30</td>\n      <td>15</td>\n      <td>51.738706</td>\n      <td>1</td>\n    </tr>\n    <tr>\n      <th>55</th>\n      <td>n923</td>\n      <td>Ketapril</td>\n      <td>Male</td>\n      <td>19</td>\n      <td>30</td>\n      <td>20</td>\n      <td>52.599206</td>\n      <td>1</td>\n    </tr>\n    <tr>\n      <th>56</th>\n      <td>n923</td>\n      <td>Ketapril</td>\n      <td>Male</td>\n      <td>19</td>\n      <td>30</td>\n      <td>25</td>\n      <td>56.855465</td>\n      <td>2</td>\n    </tr>\n    <tr>\n      <th>57</th>\n      <td>n923</td>\n      <td>Ketapril</td>\n      <td>Male</td>\n      <td>19</td>\n      <td>30</td>\n      <td>30</td>\n      <td>59.632561</td>\n      <td>3</td>\n    </tr>\n    <tr>\n      <th>58</th>\n      <td>n923</td>\n      <td>Ketapril</td>\n      <td>Male</td>\n      <td>19</td>\n      <td>30</td>\n      <td>35</td>\n      <td>60.356294</td>\n      <td>3</td>\n    </tr>\n    <tr>\n      <th>59</th>\n      <td>n923</td>\n      <td>Ketapril</td>\n      <td>Male</td>\n      <td>19</td>\n      <td>30</td>\n      <td>40</td>\n      <td>66.229606</td>\n      <td>3</td>\n    </tr>\n  </tbody>\n</table>\n</div>"
     },
     "metadata": {},
     "execution_count": 48
    }
   ],
   "source": [
    "# Dependencies and Setup\n",
    "import os\n",
    "import numpy as np\n",
    "import matplotlib.pyplot as plt\n",
    "import pandas as pd\n",
    "import scipy.stats as st\n",
    "\n",
    "# Study data files\n",
    "mouse_metadata_path = \"/Users/kellenquinn/Desktop/Matplotlib-Challenge/Matplotlib-Challenge/Pymaceuticals/Resoures/Mouse_metadata.csv\"\n",
    "study_results_path = \"/Users/kellenquinn/Desktop/Matplotlib-Challenge/Matplotlib-Challenge/Pymaceuticals/Resoures/Study_results.csv\"\n",
    "\n",
    "# Read the mouse data and the study results\n",
    "mouse_metadata = pd.read_csv(mouse_metadata_path)\n",
    "study_results = pd.read_csv(study_results_path)\n",
    "\n",
    "# Combine the data into a single dataset\n",
    "Mouse_Study_Merge=pd.merge(mouse_metadata, study_results, how=\"right\", on=\"Mouse ID\")\n",
    "# Display the data table for preview\n",
    "Mouse_Study_Merge.head(60)"
   ]
  },
  {
   "cell_type": "code",
   "execution_count": 30,
   "metadata": {},
   "outputs": [
    {
     "output_type": "stream",
     "name": "stdout",
     "text": [
      "Number of Mice: 249\n"
     ]
    }
   ],
   "source": [
    "# Checking the number of mice.\n",
    "No_of_Mice = len(pd.unique(Mouse_Study_Merge['Mouse ID']))\n",
    "print(\"Number of Mice:\", No_of_Mice)          "
   ]
  },
  {
   "cell_type": "code",
   "execution_count": 31,
   "metadata": {},
   "outputs": [
    {
     "output_type": "execute_result",
     "data": {
      "text/plain": [
       "Mouse ID  Timepoint\n",
       "g989      0            True\n",
       "          5            True\n",
       "          10           True\n",
       "          15           True\n",
       "          20           True\n",
       "dtype: bool"
      ]
     },
     "metadata": {},
     "execution_count": 31
    }
   ],
   "source": [
    "# Getting the duplicate mice by ID number that shows up for Mouse ID and Timepoint. \n",
    "Duplicate_Mice=Mouse_Study_Merge.groupby([\"Mouse ID\",\"Timepoint\"]).size()\n",
    "Duplicates=Duplicate_Mice>1\n",
    "Duplicates.loc[Duplicates]"
   ]
  },
  {
   "cell_type": "code",
   "execution_count": 32,
   "metadata": {},
   "outputs": [
    {
     "output_type": "execute_result",
     "data": {
      "text/plain": [
       "    Mouse ID Drug Regimen     Sex  Age_months  Weight (g)  Timepoint  \\\n",
       "860     g989     Propriva  Female          21          26          0   \n",
       "861     g989     Propriva  Female          21          26          0   \n",
       "862     g989     Propriva  Female          21          26          5   \n",
       "863     g989     Propriva  Female          21          26          5   \n",
       "864     g989     Propriva  Female          21          26         10   \n",
       "865     g989     Propriva  Female          21          26         10   \n",
       "866     g989     Propriva  Female          21          26         15   \n",
       "867     g989     Propriva  Female          21          26         15   \n",
       "868     g989     Propriva  Female          21          26         20   \n",
       "869     g989     Propriva  Female          21          26         20   \n",
       "870     g989     Propriva  Female          21          26         25   \n",
       "871     g989     Propriva  Female          21          26         30   \n",
       "872     g989     Propriva  Female          21          26         35   \n",
       "\n",
       "     Tumor Volume (mm3)  Metastatic Sites  \n",
       "860           45.000000                 0  \n",
       "861           45.000000                 0  \n",
       "862           48.786801                 0  \n",
       "863           47.570392                 0  \n",
       "864           51.745156                 0  \n",
       "865           49.880528                 0  \n",
       "866           51.325852                 1  \n",
       "867           53.442020                 0  \n",
       "868           55.326122                 1  \n",
       "869           54.657650                 1  \n",
       "870           56.045564                 1  \n",
       "871           59.082294                 1  \n",
       "872           62.570880                 2  "
      ],
      "text/html": "<div>\n<style scoped>\n    .dataframe tbody tr th:only-of-type {\n        vertical-align: middle;\n    }\n\n    .dataframe tbody tr th {\n        vertical-align: top;\n    }\n\n    .dataframe thead th {\n        text-align: right;\n    }\n</style>\n<table border=\"1\" class=\"dataframe\">\n  <thead>\n    <tr style=\"text-align: right;\">\n      <th></th>\n      <th>Mouse ID</th>\n      <th>Drug Regimen</th>\n      <th>Sex</th>\n      <th>Age_months</th>\n      <th>Weight (g)</th>\n      <th>Timepoint</th>\n      <th>Tumor Volume (mm3)</th>\n      <th>Metastatic Sites</th>\n    </tr>\n  </thead>\n  <tbody>\n    <tr>\n      <th>860</th>\n      <td>g989</td>\n      <td>Propriva</td>\n      <td>Female</td>\n      <td>21</td>\n      <td>26</td>\n      <td>0</td>\n      <td>45.000000</td>\n      <td>0</td>\n    </tr>\n    <tr>\n      <th>861</th>\n      <td>g989</td>\n      <td>Propriva</td>\n      <td>Female</td>\n      <td>21</td>\n      <td>26</td>\n      <td>0</td>\n      <td>45.000000</td>\n      <td>0</td>\n    </tr>\n    <tr>\n      <th>862</th>\n      <td>g989</td>\n      <td>Propriva</td>\n      <td>Female</td>\n      <td>21</td>\n      <td>26</td>\n      <td>5</td>\n      <td>48.786801</td>\n      <td>0</td>\n    </tr>\n    <tr>\n      <th>863</th>\n      <td>g989</td>\n      <td>Propriva</td>\n      <td>Female</td>\n      <td>21</td>\n      <td>26</td>\n      <td>5</td>\n      <td>47.570392</td>\n      <td>0</td>\n    </tr>\n    <tr>\n      <th>864</th>\n      <td>g989</td>\n      <td>Propriva</td>\n      <td>Female</td>\n      <td>21</td>\n      <td>26</td>\n      <td>10</td>\n      <td>51.745156</td>\n      <td>0</td>\n    </tr>\n    <tr>\n      <th>865</th>\n      <td>g989</td>\n      <td>Propriva</td>\n      <td>Female</td>\n      <td>21</td>\n      <td>26</td>\n      <td>10</td>\n      <td>49.880528</td>\n      <td>0</td>\n    </tr>\n    <tr>\n      <th>866</th>\n      <td>g989</td>\n      <td>Propriva</td>\n      <td>Female</td>\n      <td>21</td>\n      <td>26</td>\n      <td>15</td>\n      <td>51.325852</td>\n      <td>1</td>\n    </tr>\n    <tr>\n      <th>867</th>\n      <td>g989</td>\n      <td>Propriva</td>\n      <td>Female</td>\n      <td>21</td>\n      <td>26</td>\n      <td>15</td>\n      <td>53.442020</td>\n      <td>0</td>\n    </tr>\n    <tr>\n      <th>868</th>\n      <td>g989</td>\n      <td>Propriva</td>\n      <td>Female</td>\n      <td>21</td>\n      <td>26</td>\n      <td>20</td>\n      <td>55.326122</td>\n      <td>1</td>\n    </tr>\n    <tr>\n      <th>869</th>\n      <td>g989</td>\n      <td>Propriva</td>\n      <td>Female</td>\n      <td>21</td>\n      <td>26</td>\n      <td>20</td>\n      <td>54.657650</td>\n      <td>1</td>\n    </tr>\n    <tr>\n      <th>870</th>\n      <td>g989</td>\n      <td>Propriva</td>\n      <td>Female</td>\n      <td>21</td>\n      <td>26</td>\n      <td>25</td>\n      <td>56.045564</td>\n      <td>1</td>\n    </tr>\n    <tr>\n      <th>871</th>\n      <td>g989</td>\n      <td>Propriva</td>\n      <td>Female</td>\n      <td>21</td>\n      <td>26</td>\n      <td>30</td>\n      <td>59.082294</td>\n      <td>1</td>\n    </tr>\n    <tr>\n      <th>872</th>\n      <td>g989</td>\n      <td>Propriva</td>\n      <td>Female</td>\n      <td>21</td>\n      <td>26</td>\n      <td>35</td>\n      <td>62.570880</td>\n      <td>2</td>\n    </tr>\n  </tbody>\n</table>\n</div>"
     },
     "metadata": {},
     "execution_count": 32
    }
   ],
   "source": [
    "# Optional: Get all the data for the duplicate mouse ID. \n",
    "#g989=Mouse_Study_Merge==\"Mouse ID\"=g989\n",
    "g989=Mouse_Study_Merge[\"Mouse ID\"]==\"g989\"\n",
    "Mouse_Study_Merge[g989]\n"
   ]
  },
  {
   "cell_type": "code",
   "execution_count": 33,
   "metadata": {},
   "outputs": [
    {
     "output_type": "execute_result",
     "data": {
      "text/plain": [
       "     Mouse ID Drug Regimen     Sex  Age_months  Weight (g)  Timepoint  \\\n",
       "0        b128    Capomulin  Female           9          22          0   \n",
       "1        b128    Capomulin  Female           9          22          5   \n",
       "2        b128    Capomulin  Female           9          22         10   \n",
       "3        b128    Capomulin  Female           9          22         15   \n",
       "4        b128    Capomulin  Female           9          22         20   \n",
       "...       ...          ...     ...         ...         ...        ...   \n",
       "1888     m601    Capomulin    Male          22          17         25   \n",
       "1889     m601    Capomulin    Male          22          17         30   \n",
       "1890     m601    Capomulin    Male          22          17         35   \n",
       "1891     m601    Capomulin    Male          22          17         40   \n",
       "1892     m601    Capomulin    Male          22          17         45   \n",
       "\n",
       "      Tumor Volume (mm3)  Metastatic Sites  \n",
       "0              45.000000                 0  \n",
       "1              45.651331                 0  \n",
       "2              43.270852                 0  \n",
       "3              43.784893                 0  \n",
       "4              42.731552                 0  \n",
       "...                  ...               ...  \n",
       "1888           33.118756                 1  \n",
       "1889           31.758275                 1  \n",
       "1890           30.834357                 1  \n",
       "1891           31.378045                 1  \n",
       "1892           28.430964                 1  \n",
       "\n",
       "[1880 rows x 8 columns]"
      ],
      "text/html": "<div>\n<style scoped>\n    .dataframe tbody tr th:only-of-type {\n        vertical-align: middle;\n    }\n\n    .dataframe tbody tr th {\n        vertical-align: top;\n    }\n\n    .dataframe thead th {\n        text-align: right;\n    }\n</style>\n<table border=\"1\" class=\"dataframe\">\n  <thead>\n    <tr style=\"text-align: right;\">\n      <th></th>\n      <th>Mouse ID</th>\n      <th>Drug Regimen</th>\n      <th>Sex</th>\n      <th>Age_months</th>\n      <th>Weight (g)</th>\n      <th>Timepoint</th>\n      <th>Tumor Volume (mm3)</th>\n      <th>Metastatic Sites</th>\n    </tr>\n  </thead>\n  <tbody>\n    <tr>\n      <th>0</th>\n      <td>b128</td>\n      <td>Capomulin</td>\n      <td>Female</td>\n      <td>9</td>\n      <td>22</td>\n      <td>0</td>\n      <td>45.000000</td>\n      <td>0</td>\n    </tr>\n    <tr>\n      <th>1</th>\n      <td>b128</td>\n      <td>Capomulin</td>\n      <td>Female</td>\n      <td>9</td>\n      <td>22</td>\n      <td>5</td>\n      <td>45.651331</td>\n      <td>0</td>\n    </tr>\n    <tr>\n      <th>2</th>\n      <td>b128</td>\n      <td>Capomulin</td>\n      <td>Female</td>\n      <td>9</td>\n      <td>22</td>\n      <td>10</td>\n      <td>43.270852</td>\n      <td>0</td>\n    </tr>\n    <tr>\n      <th>3</th>\n      <td>b128</td>\n      <td>Capomulin</td>\n      <td>Female</td>\n      <td>9</td>\n      <td>22</td>\n      <td>15</td>\n      <td>43.784893</td>\n      <td>0</td>\n    </tr>\n    <tr>\n      <th>4</th>\n      <td>b128</td>\n      <td>Capomulin</td>\n      <td>Female</td>\n      <td>9</td>\n      <td>22</td>\n      <td>20</td>\n      <td>42.731552</td>\n      <td>0</td>\n    </tr>\n    <tr>\n      <th>...</th>\n      <td>...</td>\n      <td>...</td>\n      <td>...</td>\n      <td>...</td>\n      <td>...</td>\n      <td>...</td>\n      <td>...</td>\n      <td>...</td>\n    </tr>\n    <tr>\n      <th>1888</th>\n      <td>m601</td>\n      <td>Capomulin</td>\n      <td>Male</td>\n      <td>22</td>\n      <td>17</td>\n      <td>25</td>\n      <td>33.118756</td>\n      <td>1</td>\n    </tr>\n    <tr>\n      <th>1889</th>\n      <td>m601</td>\n      <td>Capomulin</td>\n      <td>Male</td>\n      <td>22</td>\n      <td>17</td>\n      <td>30</td>\n      <td>31.758275</td>\n      <td>1</td>\n    </tr>\n    <tr>\n      <th>1890</th>\n      <td>m601</td>\n      <td>Capomulin</td>\n      <td>Male</td>\n      <td>22</td>\n      <td>17</td>\n      <td>35</td>\n      <td>30.834357</td>\n      <td>1</td>\n    </tr>\n    <tr>\n      <th>1891</th>\n      <td>m601</td>\n      <td>Capomulin</td>\n      <td>Male</td>\n      <td>22</td>\n      <td>17</td>\n      <td>40</td>\n      <td>31.378045</td>\n      <td>1</td>\n    </tr>\n    <tr>\n      <th>1892</th>\n      <td>m601</td>\n      <td>Capomulin</td>\n      <td>Male</td>\n      <td>22</td>\n      <td>17</td>\n      <td>45</td>\n      <td>28.430964</td>\n      <td>1</td>\n    </tr>\n  </tbody>\n</table>\n<p>1880 rows × 8 columns</p>\n</div>"
     },
     "metadata": {},
     "execution_count": 33
    }
   ],
   "source": [
    "# Create a clean DataFrame by dropping the duplicate mouse by its ID.\n",
    "Clean_Mouse=Mouse_Study_Merge[~g989]\n",
    "Clean_Mouse\n"
   ]
  },
  {
   "cell_type": "code",
   "execution_count": 34,
   "metadata": {},
   "outputs": [
    {
     "output_type": "stream",
     "name": "stdout",
     "text": [
      "Number of Mice: 248\n"
     ]
    }
   ],
   "source": [
    "# Checking the number of mice in the clean DataFrame.\n",
    "No_of_Mice_Clean= len(pd.unique(Clean_Mouse['Mouse ID']))\n",
    "print(\"Number of Mice:\", No_of_Mice_Clean)          "
   ]
  },
  {
   "cell_type": "markdown",
   "metadata": {},
   "source": [
    "## Summary Statistics"
   ]
  },
  {
   "cell_type": "code",
   "execution_count": null,
   "metadata": {},
   "outputs": [],
   "source": [
    "# Generate a summary statistics table of mean, median, variance, standard deviation, and SEM of the tumor volume for each regimen\n",
    "\n",
    "# Use groupby and summary statistical methods to calculate the following properties of each drug regimen: \n",
    "# mean, median, variance, standard deviation, and SEM of the tumor volume. \n",
    "# Assemble the resulting series into a single summary dataframe.\n",
    "\n"
   ]
  },
  {
   "cell_type": "code",
   "execution_count": 35,
   "metadata": {},
   "outputs": [
    {
     "output_type": "execute_result",
     "data": {
      "text/plain": [
       "Drug Regimen\n",
       "Capomulin    40.675741\n",
       "Ceftamin     52.591172\n",
       "Infubinol    52.884795\n",
       "Ketapril     55.235638\n",
       "Naftisol     54.331565\n",
       "Placebo      54.033581\n",
       "Propriva     52.320930\n",
       "Ramicane     40.216745\n",
       "Stelasyn     54.233149\n",
       "Zoniferol    53.236507\n",
       "Name: Tumor Volume (mm3), dtype: float64"
      ]
     },
     "metadata": {},
     "execution_count": 35
    }
   ],
   "source": [
    "Regimen_Mean=Clean_Mouse.groupby([\"Drug Regimen\"]).mean()[\"Tumor Volume (mm3)\"]\n",
    "Regimen_Mean"
   ]
  },
  {
   "cell_type": "code",
   "execution_count": 36,
   "metadata": {},
   "outputs": [
    {
     "output_type": "execute_result",
     "data": {
      "text/plain": [
       "Drug Regimen\n",
       "Capomulin    24.947764\n",
       "Ceftamin     39.290177\n",
       "Infubinol    43.128684\n",
       "Ketapril     68.553577\n",
       "Naftisol     66.173479\n",
       "Placebo      61.168083\n",
       "Propriva     43.852013\n",
       "Ramicane     23.486704\n",
       "Stelasyn     59.450562\n",
       "Zoniferol    48.533355\n",
       "Name: Tumor Volume (mm3), dtype: float64"
      ]
     },
     "metadata": {},
     "execution_count": 36
    }
   ],
   "source": [
    "Regimen_variance=Clean_Mouse.groupby([\"Drug Regimen\"]).var()[\"Tumor Volume (mm3)\"]\n",
    "Regimen_variance"
   ]
  },
  {
   "cell_type": "code",
   "execution_count": 37,
   "metadata": {},
   "outputs": [
    {
     "output_type": "execute_result",
     "data": {
      "text/plain": [
       "Drug Regimen\n",
       "Capomulin    41.557809\n",
       "Ceftamin     51.776157\n",
       "Infubinol    51.820584\n",
       "Ketapril     53.698743\n",
       "Naftisol     52.509285\n",
       "Placebo      52.288934\n",
       "Propriva     50.446266\n",
       "Ramicane     40.673236\n",
       "Stelasyn     52.431737\n",
       "Zoniferol    51.818479\n",
       "Name: Tumor Volume (mm3), dtype: float64"
      ]
     },
     "metadata": {},
     "execution_count": 37
    }
   ],
   "source": [
    "Regimen_median=Clean_Mouse.groupby([\"Drug Regimen\"]).median()[\"Tumor Volume (mm3)\"]\n",
    "Regimen_median"
   ]
  },
  {
   "cell_type": "code",
   "execution_count": 38,
   "metadata": {},
   "outputs": [
    {
     "output_type": "execute_result",
     "data": {
      "text/plain": [
       "Drug Regimen\n",
       "Capomulin    4.994774\n",
       "Ceftamin     6.268188\n",
       "Infubinol    6.567243\n",
       "Ketapril     8.279709\n",
       "Naftisol     8.134708\n",
       "Placebo      7.821003\n",
       "Propriva     6.622085\n",
       "Ramicane     4.846308\n",
       "Stelasyn     7.710419\n",
       "Zoniferol    6.966589\n",
       "Name: Tumor Volume (mm3), dtype: float64"
      ]
     },
     "metadata": {},
     "execution_count": 38
    }
   ],
   "source": [
    "Regimen_std=Clean_Mouse.groupby([\"Drug Regimen\"]).std()[\"Tumor Volume (mm3)\"]\n",
    "Regimen_std"
   ]
  },
  {
   "cell_type": "code",
   "execution_count": null,
   "metadata": {},
   "outputs": [],
   "source": [
    "Regimen_SEM=Clean_Mouse.groupby([\"Drug Regimen\"]).sem()[\"Tumor Volume (mm3)\"]\n",
    "Regimen_SEM"
   ]
  },
  {
   "cell_type": "code",
   "execution_count": 39,
   "metadata": {},
   "outputs": [
    {
     "output_type": "execute_result",
     "data": {
      "text/plain": [
       "             Tumor Volume (mm3)                                          \n",
       "                           mean     median        var       std       sem\n",
       "Drug Regimen                                                             \n",
       "Capomulin             40.675741  41.557809  24.947764  4.994774  0.329346\n",
       "Ceftamin              52.591172  51.776157  39.290177  6.268188  0.469821\n",
       "Infubinol             52.884795  51.820584  43.128684  6.567243  0.492236\n",
       "Ketapril              55.235638  53.698743  68.553577  8.279709  0.603860\n",
       "Naftisol              54.331565  52.509285  66.173479  8.134708  0.596466\n",
       "Placebo               54.033581  52.288934  61.168083  7.821003  0.581331\n",
       "Propriva              52.320930  50.446266  43.852013  6.622085  0.544332\n",
       "Ramicane              40.216745  40.673236  23.486704  4.846308  0.320955\n",
       "Stelasyn              54.233149  52.431737  59.450562  7.710419  0.573111\n",
       "Zoniferol             53.236507  51.818479  48.533355  6.966589  0.516398"
      ],
      "text/html": "<div>\n<style scoped>\n    .dataframe tbody tr th:only-of-type {\n        vertical-align: middle;\n    }\n\n    .dataframe tbody tr th {\n        vertical-align: top;\n    }\n\n    .dataframe thead tr th {\n        text-align: left;\n    }\n\n    .dataframe thead tr:last-of-type th {\n        text-align: right;\n    }\n</style>\n<table border=\"1\" class=\"dataframe\">\n  <thead>\n    <tr>\n      <th></th>\n      <th colspan=\"5\" halign=\"left\">Tumor Volume (mm3)</th>\n    </tr>\n    <tr>\n      <th></th>\n      <th>mean</th>\n      <th>median</th>\n      <th>var</th>\n      <th>std</th>\n      <th>sem</th>\n    </tr>\n    <tr>\n      <th>Drug Regimen</th>\n      <th></th>\n      <th></th>\n      <th></th>\n      <th></th>\n      <th></th>\n    </tr>\n  </thead>\n  <tbody>\n    <tr>\n      <th>Capomulin</th>\n      <td>40.675741</td>\n      <td>41.557809</td>\n      <td>24.947764</td>\n      <td>4.994774</td>\n      <td>0.329346</td>\n    </tr>\n    <tr>\n      <th>Ceftamin</th>\n      <td>52.591172</td>\n      <td>51.776157</td>\n      <td>39.290177</td>\n      <td>6.268188</td>\n      <td>0.469821</td>\n    </tr>\n    <tr>\n      <th>Infubinol</th>\n      <td>52.884795</td>\n      <td>51.820584</td>\n      <td>43.128684</td>\n      <td>6.567243</td>\n      <td>0.492236</td>\n    </tr>\n    <tr>\n      <th>Ketapril</th>\n      <td>55.235638</td>\n      <td>53.698743</td>\n      <td>68.553577</td>\n      <td>8.279709</td>\n      <td>0.603860</td>\n    </tr>\n    <tr>\n      <th>Naftisol</th>\n      <td>54.331565</td>\n      <td>52.509285</td>\n      <td>66.173479</td>\n      <td>8.134708</td>\n      <td>0.596466</td>\n    </tr>\n    <tr>\n      <th>Placebo</th>\n      <td>54.033581</td>\n      <td>52.288934</td>\n      <td>61.168083</td>\n      <td>7.821003</td>\n      <td>0.581331</td>\n    </tr>\n    <tr>\n      <th>Propriva</th>\n      <td>52.320930</td>\n      <td>50.446266</td>\n      <td>43.852013</td>\n      <td>6.622085</td>\n      <td>0.544332</td>\n    </tr>\n    <tr>\n      <th>Ramicane</th>\n      <td>40.216745</td>\n      <td>40.673236</td>\n      <td>23.486704</td>\n      <td>4.846308</td>\n      <td>0.320955</td>\n    </tr>\n    <tr>\n      <th>Stelasyn</th>\n      <td>54.233149</td>\n      <td>52.431737</td>\n      <td>59.450562</td>\n      <td>7.710419</td>\n      <td>0.573111</td>\n    </tr>\n    <tr>\n      <th>Zoniferol</th>\n      <td>53.236507</td>\n      <td>51.818479</td>\n      <td>48.533355</td>\n      <td>6.966589</td>\n      <td>0.516398</td>\n    </tr>\n  </tbody>\n</table>\n</div>"
     },
     "metadata": {},
     "execution_count": 39
    }
   ],
   "source": [
    "# Generate a summary statistics table of mean, median, variance, standard deviation, and SEM of the tumor volume for each regimen\n",
    "Regimen_Overview=pd.DataFrame({'Mean': Regimen_Mean,'Median': Regimen_median,'Variance':Regimen_variance, 'Std': Regimen_std, 'SEM': Regimen_SEM})\n",
    "#Regimen_Overview.set_index('Drug Regimen')\n",
    "Regimen_Overview.head(60)\n",
    "# Using the aggregation method, produce the same summary statistics in a single line\n",
    "Regimen_Overview_Agg=Clean_Mouse.groupby(\"Drug Regimen\").agg({\"Tumor Volume (mm3)\":[\"mean\", \"median\",\"var\",\"std\",\"sem\"]})\n",
    "Regimen_Overview_Agg\n"
   ]
  },
  {
   "cell_type": "markdown",
   "metadata": {},
   "source": [
    "## Bar and Pie Charts"
   ]
  },
  {
   "cell_type": "code",
   "execution_count": 40,
   "metadata": {},
   "outputs": [
    {
     "output_type": "execute_result",
     "data": {
      "text/plain": [
       "Drug Regimen\n",
       "Capomulin    230\n",
       "Ceftamin     178\n",
       "Infubinol    178\n",
       "Ketapril     188\n",
       "Naftisol     186\n",
       "Placebo      181\n",
       "Propriva     148\n",
       "Ramicane     228\n",
       "Stelasyn     181\n",
       "Zoniferol    182\n",
       "Name: Mouse ID, dtype: int64"
      ]
     },
     "metadata": {},
     "execution_count": 40
    }
   ],
   "source": [
    "# Generate a bar plot showing the total number of measurements taken on each drug regimen.\n",
    "Regimen_Measurements=Clean_Mouse.groupby([\"Drug Regimen\"]).count()[\"Mouse ID\"]\n",
    "Regimen_Measurements\n"
   ]
  },
  {
   "cell_type": "code",
   "execution_count": 41,
   "metadata": {},
   "outputs": [
    {
     "output_type": "display_data",
     "data": {
      "text/plain": "<Figure size 432x288 with 1 Axes>",
      "image/svg+xml": "<?xml version=\"1.0\" encoding=\"utf-8\" standalone=\"no\"?>\n<!DOCTYPE svg PUBLIC \"-//W3C//DTD SVG 1.1//EN\"\n  \"http://www.w3.org/Graphics/SVG/1.1/DTD/svg11.dtd\">\n<!-- Created with matplotlib (https://matplotlib.org/) -->\n<svg height=\"321.18625pt\" version=\"1.1\" viewBox=\"0 0 388.965625 321.18625\" width=\"388.965625pt\" xmlns=\"http://www.w3.org/2000/svg\" xmlns:xlink=\"http://www.w3.org/1999/xlink\">\n <metadata>\n  <rdf:RDF xmlns:cc=\"http://creativecommons.org/ns#\" xmlns:dc=\"http://purl.org/dc/elements/1.1/\" xmlns:rdf=\"http://www.w3.org/1999/02/22-rdf-syntax-ns#\">\n   <cc:Work>\n    <dc:type rdf:resource=\"http://purl.org/dc/dcmitype/StillImage\"/>\n    <dc:date>2021-04-18T15:24:07.037378</dc:date>\n    <dc:format>image/svg+xml</dc:format>\n    <dc:creator>\n     <cc:Agent>\n      <dc:title>Matplotlib v3.3.2, https://matplotlib.org/</dc:title>\n     </cc:Agent>\n    </dc:creator>\n   </cc:Work>\n  </rdf:RDF>\n </metadata>\n <defs>\n  <style type=\"text/css\">*{stroke-linecap:butt;stroke-linejoin:round;}</style>\n </defs>\n <g id=\"figure_1\">\n  <g id=\"patch_1\">\n   <path d=\"M 0 321.18625 \nL 388.965625 321.18625 \nL 388.965625 0 \nL 0 0 \nz\n\" style=\"fill:none;\"/>\n  </g>\n  <g id=\"axes_1\">\n   <g id=\"patch_2\">\n    <path d=\"M 46.965625 239.758125 \nL 381.765625 239.758125 \nL 381.765625 22.318125 \nL 46.965625 22.318125 \nz\n\" style=\"fill:#ffffff;\"/>\n   </g>\n   <g id=\"patch_3\">\n    <path clip-path=\"url(#pc3b4c872a7)\" d=\"M 55.335625 239.758125 \nL 72.075625 239.758125 \nL 72.075625 32.672411 \nL 55.335625 32.672411 \nz\n\" style=\"fill:#1f77b4;\"/>\n   </g>\n   <g id=\"patch_4\">\n    <path clip-path=\"url(#pc3b4c872a7)\" d=\"M 88.815625 239.758125 \nL 105.555625 239.758125 \nL 105.555625 79.49179 \nL 88.815625 79.49179 \nz\n\" style=\"fill:#1f77b4;\"/>\n   </g>\n   <g id=\"patch_5\">\n    <path clip-path=\"url(#pc3b4c872a7)\" d=\"M 122.295625 239.758125 \nL 139.035625 239.758125 \nL 139.035625 79.49179 \nL 122.295625 79.49179 \nz\n\" style=\"fill:#1f77b4;\"/>\n   </g>\n   <g id=\"patch_6\">\n    <path clip-path=\"url(#pc3b4c872a7)\" d=\"M 155.775625 239.758125 \nL 172.515625 239.758125 \nL 172.515625 70.488063 \nL 155.775625 70.488063 \nz\n\" style=\"fill:#1f77b4;\"/>\n   </g>\n   <g id=\"patch_7\">\n    <path clip-path=\"url(#pc3b4c872a7)\" d=\"M 189.255625 239.758125 \nL 205.995625 239.758125 \nL 205.995625 72.288808 \nL 189.255625 72.288808 \nz\n\" style=\"fill:#1f77b4;\"/>\n   </g>\n   <g id=\"patch_8\">\n    <path clip-path=\"url(#pc3b4c872a7)\" d=\"M 222.735625 239.758125 \nL 239.475625 239.758125 \nL 239.475625 76.790672 \nL 222.735625 76.790672 \nz\n\" style=\"fill:#1f77b4;\"/>\n   </g>\n   <g id=\"patch_9\">\n    <path clip-path=\"url(#pc3b4c872a7)\" d=\"M 256.215625 239.758125 \nL 272.955625 239.758125 \nL 272.955625 106.50297 \nL 256.215625 106.50297 \nz\n\" style=\"fill:#1f77b4;\"/>\n   </g>\n   <g id=\"patch_10\">\n    <path clip-path=\"url(#pc3b4c872a7)\" d=\"M 289.695625 239.758125 \nL 306.435625 239.758125 \nL 306.435625 34.473156 \nL 289.695625 34.473156 \nz\n\" style=\"fill:#1f77b4;\"/>\n   </g>\n   <g id=\"patch_11\">\n    <path clip-path=\"url(#pc3b4c872a7)\" d=\"M 323.175625 239.758125 \nL 339.915625 239.758125 \nL 339.915625 76.790672 \nL 323.175625 76.790672 \nz\n\" style=\"fill:#1f77b4;\"/>\n   </g>\n   <g id=\"patch_12\">\n    <path clip-path=\"url(#pc3b4c872a7)\" d=\"M 356.655625 239.758125 \nL 373.395625 239.758125 \nL 373.395625 75.890299 \nL 356.655625 75.890299 \nz\n\" style=\"fill:#1f77b4;\"/>\n   </g>\n   <g id=\"matplotlib.axis_1\">\n    <g id=\"xtick_1\">\n     <g id=\"line2d_1\">\n      <defs>\n       <path d=\"M 0 0 \nL 0 3.5 \n\" id=\"m3b3ebddd29\" style=\"stroke:#000000;stroke-width:0.8;\"/>\n      </defs>\n      <g>\n       <use style=\"stroke:#000000;stroke-width:0.8;\" x=\"63.705625\" xlink:href=\"#m3b3ebddd29\" y=\"239.758125\"/>\n      </g>\n     </g>\n     <g id=\"text_1\">\n      <!-- Capomulin -->\n      <g transform=\"translate(66.465 300.308125)rotate(-90)scale(0.1 -0.1)\">\n       <defs>\n        <path d=\"M 64.40625 67.28125 \nL 64.40625 56.890625 \nQ 59.421875 61.53125 53.78125 63.8125 \nQ 48.140625 66.109375 41.796875 66.109375 \nQ 29.296875 66.109375 22.65625 58.46875 \nQ 16.015625 50.828125 16.015625 36.375 \nQ 16.015625 21.96875 22.65625 14.328125 \nQ 29.296875 6.6875 41.796875 6.6875 \nQ 48.140625 6.6875 53.78125 8.984375 \nQ 59.421875 11.28125 64.40625 15.921875 \nL 64.40625 5.609375 \nQ 59.234375 2.09375 53.4375 0.328125 \nQ 47.65625 -1.421875 41.21875 -1.421875 \nQ 24.65625 -1.421875 15.125 8.703125 \nQ 5.609375 18.84375 5.609375 36.375 \nQ 5.609375 53.953125 15.125 64.078125 \nQ 24.65625 74.21875 41.21875 74.21875 \nQ 47.75 74.21875 53.53125 72.484375 \nQ 59.328125 70.75 64.40625 67.28125 \nz\n\" id=\"DejaVuSans-67\"/>\n        <path d=\"M 34.28125 27.484375 \nQ 23.390625 27.484375 19.1875 25 \nQ 14.984375 22.515625 14.984375 16.5 \nQ 14.984375 11.71875 18.140625 8.90625 \nQ 21.296875 6.109375 26.703125 6.109375 \nQ 34.1875 6.109375 38.703125 11.40625 \nQ 43.21875 16.703125 43.21875 25.484375 \nL 43.21875 27.484375 \nz\nM 52.203125 31.203125 \nL 52.203125 0 \nL 43.21875 0 \nL 43.21875 8.296875 \nQ 40.140625 3.328125 35.546875 0.953125 \nQ 30.953125 -1.421875 24.3125 -1.421875 \nQ 15.921875 -1.421875 10.953125 3.296875 \nQ 6 8.015625 6 15.921875 \nQ 6 25.140625 12.171875 29.828125 \nQ 18.359375 34.515625 30.609375 34.515625 \nL 43.21875 34.515625 \nL 43.21875 35.40625 \nQ 43.21875 41.609375 39.140625 45 \nQ 35.0625 48.390625 27.6875 48.390625 \nQ 23 48.390625 18.546875 47.265625 \nQ 14.109375 46.140625 10.015625 43.890625 \nL 10.015625 52.203125 \nQ 14.9375 54.109375 19.578125 55.046875 \nQ 24.21875 56 28.609375 56 \nQ 40.484375 56 46.34375 49.84375 \nQ 52.203125 43.703125 52.203125 31.203125 \nz\n\" id=\"DejaVuSans-97\"/>\n        <path d=\"M 18.109375 8.203125 \nL 18.109375 -20.796875 \nL 9.078125 -20.796875 \nL 9.078125 54.6875 \nL 18.109375 54.6875 \nL 18.109375 46.390625 \nQ 20.953125 51.265625 25.265625 53.625 \nQ 29.59375 56 35.59375 56 \nQ 45.5625 56 51.78125 48.09375 \nQ 58.015625 40.1875 58.015625 27.296875 \nQ 58.015625 14.40625 51.78125 6.484375 \nQ 45.5625 -1.421875 35.59375 -1.421875 \nQ 29.59375 -1.421875 25.265625 0.953125 \nQ 20.953125 3.328125 18.109375 8.203125 \nz\nM 48.6875 27.296875 \nQ 48.6875 37.203125 44.609375 42.84375 \nQ 40.53125 48.484375 33.40625 48.484375 \nQ 26.265625 48.484375 22.1875 42.84375 \nQ 18.109375 37.203125 18.109375 27.296875 \nQ 18.109375 17.390625 22.1875 11.75 \nQ 26.265625 6.109375 33.40625 6.109375 \nQ 40.53125 6.109375 44.609375 11.75 \nQ 48.6875 17.390625 48.6875 27.296875 \nz\n\" id=\"DejaVuSans-112\"/>\n        <path d=\"M 30.609375 48.390625 \nQ 23.390625 48.390625 19.1875 42.75 \nQ 14.984375 37.109375 14.984375 27.296875 \nQ 14.984375 17.484375 19.15625 11.84375 \nQ 23.34375 6.203125 30.609375 6.203125 \nQ 37.796875 6.203125 41.984375 11.859375 \nQ 46.1875 17.53125 46.1875 27.296875 \nQ 46.1875 37.015625 41.984375 42.703125 \nQ 37.796875 48.390625 30.609375 48.390625 \nz\nM 30.609375 56 \nQ 42.328125 56 49.015625 48.375 \nQ 55.71875 40.765625 55.71875 27.296875 \nQ 55.71875 13.875 49.015625 6.21875 \nQ 42.328125 -1.421875 30.609375 -1.421875 \nQ 18.84375 -1.421875 12.171875 6.21875 \nQ 5.515625 13.875 5.515625 27.296875 \nQ 5.515625 40.765625 12.171875 48.375 \nQ 18.84375 56 30.609375 56 \nz\n\" id=\"DejaVuSans-111\"/>\n        <path d=\"M 52 44.1875 \nQ 55.375 50.25 60.0625 53.125 \nQ 64.75 56 71.09375 56 \nQ 79.640625 56 84.28125 50.015625 \nQ 88.921875 44.046875 88.921875 33.015625 \nL 88.921875 0 \nL 79.890625 0 \nL 79.890625 32.71875 \nQ 79.890625 40.578125 77.09375 44.375 \nQ 74.3125 48.1875 68.609375 48.1875 \nQ 61.625 48.1875 57.5625 43.546875 \nQ 53.515625 38.921875 53.515625 30.90625 \nL 53.515625 0 \nL 44.484375 0 \nL 44.484375 32.71875 \nQ 44.484375 40.625 41.703125 44.40625 \nQ 38.921875 48.1875 33.109375 48.1875 \nQ 26.21875 48.1875 22.15625 43.53125 \nQ 18.109375 38.875 18.109375 30.90625 \nL 18.109375 0 \nL 9.078125 0 \nL 9.078125 54.6875 \nL 18.109375 54.6875 \nL 18.109375 46.1875 \nQ 21.1875 51.21875 25.484375 53.609375 \nQ 29.78125 56 35.6875 56 \nQ 41.65625 56 45.828125 52.96875 \nQ 50 49.953125 52 44.1875 \nz\n\" id=\"DejaVuSans-109\"/>\n        <path d=\"M 8.5 21.578125 \nL 8.5 54.6875 \nL 17.484375 54.6875 \nL 17.484375 21.921875 \nQ 17.484375 14.15625 20.5 10.265625 \nQ 23.53125 6.390625 29.59375 6.390625 \nQ 36.859375 6.390625 41.078125 11.03125 \nQ 45.3125 15.671875 45.3125 23.6875 \nL 45.3125 54.6875 \nL 54.296875 54.6875 \nL 54.296875 0 \nL 45.3125 0 \nL 45.3125 8.40625 \nQ 42.046875 3.421875 37.71875 1 \nQ 33.40625 -1.421875 27.6875 -1.421875 \nQ 18.265625 -1.421875 13.375 4.4375 \nQ 8.5 10.296875 8.5 21.578125 \nz\nM 31.109375 56 \nz\n\" id=\"DejaVuSans-117\"/>\n        <path d=\"M 9.421875 75.984375 \nL 18.40625 75.984375 \nL 18.40625 0 \nL 9.421875 0 \nz\n\" id=\"DejaVuSans-108\"/>\n        <path d=\"M 9.421875 54.6875 \nL 18.40625 54.6875 \nL 18.40625 0 \nL 9.421875 0 \nz\nM 9.421875 75.984375 \nL 18.40625 75.984375 \nL 18.40625 64.59375 \nL 9.421875 64.59375 \nz\n\" id=\"DejaVuSans-105\"/>\n        <path d=\"M 54.890625 33.015625 \nL 54.890625 0 \nL 45.90625 0 \nL 45.90625 32.71875 \nQ 45.90625 40.484375 42.875 44.328125 \nQ 39.84375 48.1875 33.796875 48.1875 \nQ 26.515625 48.1875 22.3125 43.546875 \nQ 18.109375 38.921875 18.109375 30.90625 \nL 18.109375 0 \nL 9.078125 0 \nL 9.078125 54.6875 \nL 18.109375 54.6875 \nL 18.109375 46.1875 \nQ 21.34375 51.125 25.703125 53.5625 \nQ 30.078125 56 35.796875 56 \nQ 45.21875 56 50.046875 50.171875 \nQ 54.890625 44.34375 54.890625 33.015625 \nz\n\" id=\"DejaVuSans-110\"/>\n       </defs>\n       <use xlink:href=\"#DejaVuSans-67\"/>\n       <use x=\"69.824219\" xlink:href=\"#DejaVuSans-97\"/>\n       <use x=\"131.103516\" xlink:href=\"#DejaVuSans-112\"/>\n       <use x=\"194.580078\" xlink:href=\"#DejaVuSans-111\"/>\n       <use x=\"255.761719\" xlink:href=\"#DejaVuSans-109\"/>\n       <use x=\"353.173828\" xlink:href=\"#DejaVuSans-117\"/>\n       <use x=\"416.552734\" xlink:href=\"#DejaVuSans-108\"/>\n       <use x=\"444.335938\" xlink:href=\"#DejaVuSans-105\"/>\n       <use x=\"472.119141\" xlink:href=\"#DejaVuSans-110\"/>\n      </g>\n     </g>\n    </g>\n    <g id=\"xtick_2\">\n     <g id=\"line2d_2\">\n      <g>\n       <use style=\"stroke:#000000;stroke-width:0.8;\" x=\"97.185625\" xlink:href=\"#m3b3ebddd29\" y=\"239.758125\"/>\n      </g>\n     </g>\n     <g id=\"text_2\">\n      <!-- Ceftamin -->\n      <g transform=\"translate(99.945 292.144063)rotate(-90)scale(0.1 -0.1)\">\n       <defs>\n        <path d=\"M 56.203125 29.59375 \nL 56.203125 25.203125 \nL 14.890625 25.203125 \nQ 15.484375 15.921875 20.484375 11.0625 \nQ 25.484375 6.203125 34.421875 6.203125 \nQ 39.59375 6.203125 44.453125 7.46875 \nQ 49.3125 8.734375 54.109375 11.28125 \nL 54.109375 2.78125 \nQ 49.265625 0.734375 44.1875 -0.34375 \nQ 39.109375 -1.421875 33.890625 -1.421875 \nQ 20.796875 -1.421875 13.15625 6.1875 \nQ 5.515625 13.8125 5.515625 26.8125 \nQ 5.515625 40.234375 12.765625 48.109375 \nQ 20.015625 56 32.328125 56 \nQ 43.359375 56 49.78125 48.890625 \nQ 56.203125 41.796875 56.203125 29.59375 \nz\nM 47.21875 32.234375 \nQ 47.125 39.59375 43.09375 43.984375 \nQ 39.0625 48.390625 32.421875 48.390625 \nQ 24.90625 48.390625 20.390625 44.140625 \nQ 15.875 39.890625 15.1875 32.171875 \nz\n\" id=\"DejaVuSans-101\"/>\n        <path d=\"M 37.109375 75.984375 \nL 37.109375 68.5 \nL 28.515625 68.5 \nQ 23.6875 68.5 21.796875 66.546875 \nQ 19.921875 64.59375 19.921875 59.515625 \nL 19.921875 54.6875 \nL 34.71875 54.6875 \nL 34.71875 47.703125 \nL 19.921875 47.703125 \nL 19.921875 0 \nL 10.890625 0 \nL 10.890625 47.703125 \nL 2.296875 47.703125 \nL 2.296875 54.6875 \nL 10.890625 54.6875 \nL 10.890625 58.5 \nQ 10.890625 67.625 15.140625 71.796875 \nQ 19.390625 75.984375 28.609375 75.984375 \nz\n\" id=\"DejaVuSans-102\"/>\n        <path d=\"M 18.3125 70.21875 \nL 18.3125 54.6875 \nL 36.8125 54.6875 \nL 36.8125 47.703125 \nL 18.3125 47.703125 \nL 18.3125 18.015625 \nQ 18.3125 11.328125 20.140625 9.421875 \nQ 21.96875 7.515625 27.59375 7.515625 \nL 36.8125 7.515625 \nL 36.8125 0 \nL 27.59375 0 \nQ 17.1875 0 13.234375 3.875 \nQ 9.28125 7.765625 9.28125 18.015625 \nL 9.28125 47.703125 \nL 2.6875 47.703125 \nL 2.6875 54.6875 \nL 9.28125 54.6875 \nL 9.28125 70.21875 \nz\n\" id=\"DejaVuSans-116\"/>\n       </defs>\n       <use xlink:href=\"#DejaVuSans-67\"/>\n       <use x=\"69.824219\" xlink:href=\"#DejaVuSans-101\"/>\n       <use x=\"131.347656\" xlink:href=\"#DejaVuSans-102\"/>\n       <use x=\"164.802734\" xlink:href=\"#DejaVuSans-116\"/>\n       <use x=\"204.011719\" xlink:href=\"#DejaVuSans-97\"/>\n       <use x=\"265.291016\" xlink:href=\"#DejaVuSans-109\"/>\n       <use x=\"362.703125\" xlink:href=\"#DejaVuSans-105\"/>\n       <use x=\"390.486328\" xlink:href=\"#DejaVuSans-110\"/>\n      </g>\n     </g>\n    </g>\n    <g id=\"xtick_3\">\n     <g id=\"line2d_3\">\n      <g>\n       <use style=\"stroke:#000000;stroke-width:0.8;\" x=\"130.665625\" xlink:href=\"#m3b3ebddd29\" y=\"239.758125\"/>\n      </g>\n     </g>\n     <g id=\"text_3\">\n      <!-- Infubinol -->\n      <g transform=\"translate(133.425 290.264375)rotate(-90)scale(0.1 -0.1)\">\n       <defs>\n        <path d=\"M 9.8125 72.90625 \nL 19.671875 72.90625 \nL 19.671875 0 \nL 9.8125 0 \nz\n\" id=\"DejaVuSans-73\"/>\n        <path d=\"M 48.6875 27.296875 \nQ 48.6875 37.203125 44.609375 42.84375 \nQ 40.53125 48.484375 33.40625 48.484375 \nQ 26.265625 48.484375 22.1875 42.84375 \nQ 18.109375 37.203125 18.109375 27.296875 \nQ 18.109375 17.390625 22.1875 11.75 \nQ 26.265625 6.109375 33.40625 6.109375 \nQ 40.53125 6.109375 44.609375 11.75 \nQ 48.6875 17.390625 48.6875 27.296875 \nz\nM 18.109375 46.390625 \nQ 20.953125 51.265625 25.265625 53.625 \nQ 29.59375 56 35.59375 56 \nQ 45.5625 56 51.78125 48.09375 \nQ 58.015625 40.1875 58.015625 27.296875 \nQ 58.015625 14.40625 51.78125 6.484375 \nQ 45.5625 -1.421875 35.59375 -1.421875 \nQ 29.59375 -1.421875 25.265625 0.953125 \nQ 20.953125 3.328125 18.109375 8.203125 \nL 18.109375 0 \nL 9.078125 0 \nL 9.078125 75.984375 \nL 18.109375 75.984375 \nz\n\" id=\"DejaVuSans-98\"/>\n       </defs>\n       <use xlink:href=\"#DejaVuSans-73\"/>\n       <use x=\"29.492188\" xlink:href=\"#DejaVuSans-110\"/>\n       <use x=\"92.871094\" xlink:href=\"#DejaVuSans-102\"/>\n       <use x=\"128.076172\" xlink:href=\"#DejaVuSans-117\"/>\n       <use x=\"191.455078\" xlink:href=\"#DejaVuSans-98\"/>\n       <use x=\"254.931641\" xlink:href=\"#DejaVuSans-105\"/>\n       <use x=\"282.714844\" xlink:href=\"#DejaVuSans-110\"/>\n       <use x=\"346.09375\" xlink:href=\"#DejaVuSans-111\"/>\n       <use x=\"407.275391\" xlink:href=\"#DejaVuSans-108\"/>\n      </g>\n     </g>\n    </g>\n    <g id=\"xtick_4\">\n     <g id=\"line2d_4\">\n      <g>\n       <use style=\"stroke:#000000;stroke-width:0.8;\" x=\"164.145625\" xlink:href=\"#m3b3ebddd29\" y=\"239.758125\"/>\n      </g>\n     </g>\n     <g id=\"text_4\">\n      <!-- Ketapril -->\n      <g transform=\"translate(166.905 285.033125)rotate(-90)scale(0.1 -0.1)\">\n       <defs>\n        <path d=\"M 9.8125 72.90625 \nL 19.671875 72.90625 \nL 19.671875 42.09375 \nL 52.390625 72.90625 \nL 65.09375 72.90625 \nL 28.90625 38.921875 \nL 67.671875 0 \nL 54.6875 0 \nL 19.671875 35.109375 \nL 19.671875 0 \nL 9.8125 0 \nz\n\" id=\"DejaVuSans-75\"/>\n        <path d=\"M 41.109375 46.296875 \nQ 39.59375 47.171875 37.8125 47.578125 \nQ 36.03125 48 33.890625 48 \nQ 26.265625 48 22.1875 43.046875 \nQ 18.109375 38.09375 18.109375 28.8125 \nL 18.109375 0 \nL 9.078125 0 \nL 9.078125 54.6875 \nL 18.109375 54.6875 \nL 18.109375 46.1875 \nQ 20.953125 51.171875 25.484375 53.578125 \nQ 30.03125 56 36.53125 56 \nQ 37.453125 56 38.578125 55.875 \nQ 39.703125 55.765625 41.0625 55.515625 \nz\n\" id=\"DejaVuSans-114\"/>\n       </defs>\n       <use xlink:href=\"#DejaVuSans-75\"/>\n       <use x=\"60.576172\" xlink:href=\"#DejaVuSans-101\"/>\n       <use x=\"122.099609\" xlink:href=\"#DejaVuSans-116\"/>\n       <use x=\"161.308594\" xlink:href=\"#DejaVuSans-97\"/>\n       <use x=\"222.587891\" xlink:href=\"#DejaVuSans-112\"/>\n       <use x=\"286.064453\" xlink:href=\"#DejaVuSans-114\"/>\n       <use x=\"327.177734\" xlink:href=\"#DejaVuSans-105\"/>\n       <use x=\"354.960938\" xlink:href=\"#DejaVuSans-108\"/>\n      </g>\n     </g>\n    </g>\n    <g id=\"xtick_5\">\n     <g id=\"line2d_5\">\n      <g>\n       <use style=\"stroke:#000000;stroke-width:0.8;\" x=\"197.625625\" xlink:href=\"#m3b3ebddd29\" y=\"239.758125\"/>\n      </g>\n     </g>\n     <g id=\"text_5\">\n      <!-- Naftisol -->\n      <g transform=\"translate(200.385 284.5175)rotate(-90)scale(0.1 -0.1)\">\n       <defs>\n        <path d=\"M 9.8125 72.90625 \nL 23.09375 72.90625 \nL 55.421875 11.921875 \nL 55.421875 72.90625 \nL 64.984375 72.90625 \nL 64.984375 0 \nL 51.703125 0 \nL 19.390625 60.984375 \nL 19.390625 0 \nL 9.8125 0 \nz\n\" id=\"DejaVuSans-78\"/>\n        <path d=\"M 44.28125 53.078125 \nL 44.28125 44.578125 \nQ 40.484375 46.53125 36.375 47.5 \nQ 32.28125 48.484375 27.875 48.484375 \nQ 21.1875 48.484375 17.84375 46.4375 \nQ 14.5 44.390625 14.5 40.28125 \nQ 14.5 37.15625 16.890625 35.375 \nQ 19.28125 33.59375 26.515625 31.984375 \nL 29.59375 31.296875 \nQ 39.15625 29.25 43.1875 25.515625 \nQ 47.21875 21.78125 47.21875 15.09375 \nQ 47.21875 7.46875 41.1875 3.015625 \nQ 35.15625 -1.421875 24.609375 -1.421875 \nQ 20.21875 -1.421875 15.453125 -0.5625 \nQ 10.6875 0.296875 5.421875 2 \nL 5.421875 11.28125 \nQ 10.40625 8.6875 15.234375 7.390625 \nQ 20.0625 6.109375 24.8125 6.109375 \nQ 31.15625 6.109375 34.5625 8.28125 \nQ 37.984375 10.453125 37.984375 14.40625 \nQ 37.984375 18.0625 35.515625 20.015625 \nQ 33.0625 21.96875 24.703125 23.78125 \nL 21.578125 24.515625 \nQ 13.234375 26.265625 9.515625 29.90625 \nQ 5.8125 33.546875 5.8125 39.890625 \nQ 5.8125 47.609375 11.28125 51.796875 \nQ 16.75 56 26.8125 56 \nQ 31.78125 56 36.171875 55.265625 \nQ 40.578125 54.546875 44.28125 53.078125 \nz\n\" id=\"DejaVuSans-115\"/>\n       </defs>\n       <use xlink:href=\"#DejaVuSans-78\"/>\n       <use x=\"74.804688\" xlink:href=\"#DejaVuSans-97\"/>\n       <use x=\"136.083984\" xlink:href=\"#DejaVuSans-102\"/>\n       <use x=\"169.539062\" xlink:href=\"#DejaVuSans-116\"/>\n       <use x=\"208.748047\" xlink:href=\"#DejaVuSans-105\"/>\n       <use x=\"236.53125\" xlink:href=\"#DejaVuSans-115\"/>\n       <use x=\"288.630859\" xlink:href=\"#DejaVuSans-111\"/>\n       <use x=\"349.8125\" xlink:href=\"#DejaVuSans-108\"/>\n      </g>\n     </g>\n    </g>\n    <g id=\"xtick_6\">\n     <g id=\"line2d_6\">\n      <g>\n       <use style=\"stroke:#000000;stroke-width:0.8;\" x=\"231.105625\" xlink:href=\"#m3b3ebddd29\" y=\"239.758125\"/>\n      </g>\n     </g>\n     <g id=\"text_6\">\n      <!-- Placebo -->\n      <g transform=\"translate(233.865 285.812813)rotate(-90)scale(0.1 -0.1)\">\n       <defs>\n        <path d=\"M 19.671875 64.796875 \nL 19.671875 37.40625 \nL 32.078125 37.40625 \nQ 38.96875 37.40625 42.71875 40.96875 \nQ 46.484375 44.53125 46.484375 51.125 \nQ 46.484375 57.671875 42.71875 61.234375 \nQ 38.96875 64.796875 32.078125 64.796875 \nz\nM 9.8125 72.90625 \nL 32.078125 72.90625 \nQ 44.34375 72.90625 50.609375 67.359375 \nQ 56.890625 61.8125 56.890625 51.125 \nQ 56.890625 40.328125 50.609375 34.8125 \nQ 44.34375 29.296875 32.078125 29.296875 \nL 19.671875 29.296875 \nL 19.671875 0 \nL 9.8125 0 \nz\n\" id=\"DejaVuSans-80\"/>\n        <path d=\"M 48.78125 52.59375 \nL 48.78125 44.1875 \nQ 44.96875 46.296875 41.140625 47.34375 \nQ 37.3125 48.390625 33.40625 48.390625 \nQ 24.65625 48.390625 19.8125 42.84375 \nQ 14.984375 37.3125 14.984375 27.296875 \nQ 14.984375 17.28125 19.8125 11.734375 \nQ 24.65625 6.203125 33.40625 6.203125 \nQ 37.3125 6.203125 41.140625 7.25 \nQ 44.96875 8.296875 48.78125 10.40625 \nL 48.78125 2.09375 \nQ 45.015625 0.34375 40.984375 -0.53125 \nQ 36.96875 -1.421875 32.421875 -1.421875 \nQ 20.0625 -1.421875 12.78125 6.34375 \nQ 5.515625 14.109375 5.515625 27.296875 \nQ 5.515625 40.671875 12.859375 48.328125 \nQ 20.21875 56 33.015625 56 \nQ 37.15625 56 41.109375 55.140625 \nQ 45.0625 54.296875 48.78125 52.59375 \nz\n\" id=\"DejaVuSans-99\"/>\n       </defs>\n       <use xlink:href=\"#DejaVuSans-80\"/>\n       <use x=\"60.302734\" xlink:href=\"#DejaVuSans-108\"/>\n       <use x=\"88.085938\" xlink:href=\"#DejaVuSans-97\"/>\n       <use x=\"149.365234\" xlink:href=\"#DejaVuSans-99\"/>\n       <use x=\"204.345703\" xlink:href=\"#DejaVuSans-101\"/>\n       <use x=\"265.869141\" xlink:href=\"#DejaVuSans-98\"/>\n       <use x=\"329.345703\" xlink:href=\"#DejaVuSans-111\"/>\n      </g>\n     </g>\n    </g>\n    <g id=\"xtick_7\">\n     <g id=\"line2d_7\">\n      <g>\n       <use style=\"stroke:#000000;stroke-width:0.8;\" x=\"264.585625\" xlink:href=\"#m3b3ebddd29\" y=\"239.758125\"/>\n      </g>\n     </g>\n     <g id=\"text_7\">\n      <!-- Propriva -->\n      <g transform=\"translate(267.345 287.901875)rotate(-90)scale(0.1 -0.1)\">\n       <defs>\n        <path d=\"M 2.984375 54.6875 \nL 12.5 54.6875 \nL 29.59375 8.796875 \nL 46.6875 54.6875 \nL 56.203125 54.6875 \nL 35.6875 0 \nL 23.484375 0 \nz\n\" id=\"DejaVuSans-118\"/>\n       </defs>\n       <use xlink:href=\"#DejaVuSans-80\"/>\n       <use x=\"58.552734\" xlink:href=\"#DejaVuSans-114\"/>\n       <use x=\"97.416016\" xlink:href=\"#DejaVuSans-111\"/>\n       <use x=\"158.597656\" xlink:href=\"#DejaVuSans-112\"/>\n       <use x=\"222.074219\" xlink:href=\"#DejaVuSans-114\"/>\n       <use x=\"263.1875\" xlink:href=\"#DejaVuSans-105\"/>\n       <use x=\"290.970703\" xlink:href=\"#DejaVuSans-118\"/>\n       <use x=\"350.150391\" xlink:href=\"#DejaVuSans-97\"/>\n      </g>\n     </g>\n    </g>\n    <g id=\"xtick_8\">\n     <g id=\"line2d_8\">\n      <g>\n       <use style=\"stroke:#000000;stroke-width:0.8;\" x=\"298.065625\" xlink:href=\"#m3b3ebddd29\" y=\"239.758125\"/>\n      </g>\n     </g>\n     <g id=\"text_8\">\n      <!-- Ramicane -->\n      <g transform=\"translate(300.825 296.245625)rotate(-90)scale(0.1 -0.1)\">\n       <defs>\n        <path d=\"M 44.390625 34.1875 \nQ 47.5625 33.109375 50.5625 29.59375 \nQ 53.5625 26.078125 56.59375 19.921875 \nL 66.609375 0 \nL 56 0 \nL 46.6875 18.703125 \nQ 43.0625 26.03125 39.671875 28.421875 \nQ 36.28125 30.8125 30.421875 30.8125 \nL 19.671875 30.8125 \nL 19.671875 0 \nL 9.8125 0 \nL 9.8125 72.90625 \nL 32.078125 72.90625 \nQ 44.578125 72.90625 50.734375 67.671875 \nQ 56.890625 62.453125 56.890625 51.90625 \nQ 56.890625 45.015625 53.6875 40.46875 \nQ 50.484375 35.9375 44.390625 34.1875 \nz\nM 19.671875 64.796875 \nL 19.671875 38.921875 \nL 32.078125 38.921875 \nQ 39.203125 38.921875 42.84375 42.21875 \nQ 46.484375 45.515625 46.484375 51.90625 \nQ 46.484375 58.296875 42.84375 61.546875 \nQ 39.203125 64.796875 32.078125 64.796875 \nz\n\" id=\"DejaVuSans-82\"/>\n       </defs>\n       <use xlink:href=\"#DejaVuSans-82\"/>\n       <use x=\"67.232422\" xlink:href=\"#DejaVuSans-97\"/>\n       <use x=\"128.511719\" xlink:href=\"#DejaVuSans-109\"/>\n       <use x=\"225.923828\" xlink:href=\"#DejaVuSans-105\"/>\n       <use x=\"253.707031\" xlink:href=\"#DejaVuSans-99\"/>\n       <use x=\"308.6875\" xlink:href=\"#DejaVuSans-97\"/>\n       <use x=\"369.966797\" xlink:href=\"#DejaVuSans-110\"/>\n       <use x=\"433.345703\" xlink:href=\"#DejaVuSans-101\"/>\n      </g>\n     </g>\n    </g>\n    <g id=\"xtick_9\">\n     <g id=\"line2d_9\">\n      <g>\n       <use style=\"stroke:#000000;stroke-width:0.8;\" x=\"331.545625\" xlink:href=\"#m3b3ebddd29\" y=\"239.758125\"/>\n      </g>\n     </g>\n     <g id=\"text_9\">\n      <!-- Stelasyn -->\n      <g transform=\"translate(334.305 289.551875)rotate(-90)scale(0.1 -0.1)\">\n       <defs>\n        <path d=\"M 53.515625 70.515625 \nL 53.515625 60.890625 \nQ 47.90625 63.578125 42.921875 64.890625 \nQ 37.9375 66.21875 33.296875 66.21875 \nQ 25.25 66.21875 20.875 63.09375 \nQ 16.5 59.96875 16.5 54.203125 \nQ 16.5 49.359375 19.40625 46.890625 \nQ 22.3125 44.4375 30.421875 42.921875 \nL 36.375 41.703125 \nQ 47.40625 39.59375 52.65625 34.296875 \nQ 57.90625 29 57.90625 20.125 \nQ 57.90625 9.515625 50.796875 4.046875 \nQ 43.703125 -1.421875 29.984375 -1.421875 \nQ 24.8125 -1.421875 18.96875 -0.25 \nQ 13.140625 0.921875 6.890625 3.21875 \nL 6.890625 13.375 \nQ 12.890625 10.015625 18.65625 8.296875 \nQ 24.421875 6.59375 29.984375 6.59375 \nQ 38.421875 6.59375 43.015625 9.90625 \nQ 47.609375 13.234375 47.609375 19.390625 \nQ 47.609375 24.75 44.3125 27.78125 \nQ 41.015625 30.8125 33.5 32.328125 \nL 27.484375 33.5 \nQ 16.453125 35.6875 11.515625 40.375 \nQ 6.59375 45.0625 6.59375 53.421875 \nQ 6.59375 63.09375 13.40625 68.65625 \nQ 20.21875 74.21875 32.171875 74.21875 \nQ 37.3125 74.21875 42.625 73.28125 \nQ 47.953125 72.359375 53.515625 70.515625 \nz\n\" id=\"DejaVuSans-83\"/>\n        <path d=\"M 32.171875 -5.078125 \nQ 28.375 -14.84375 24.75 -17.8125 \nQ 21.140625 -20.796875 15.09375 -20.796875 \nL 7.90625 -20.796875 \nL 7.90625 -13.28125 \nL 13.1875 -13.28125 \nQ 16.890625 -13.28125 18.9375 -11.515625 \nQ 21 -9.765625 23.484375 -3.21875 \nL 25.09375 0.875 \nL 2.984375 54.6875 \nL 12.5 54.6875 \nL 29.59375 11.921875 \nL 46.6875 54.6875 \nL 56.203125 54.6875 \nz\n\" id=\"DejaVuSans-121\"/>\n       </defs>\n       <use xlink:href=\"#DejaVuSans-83\"/>\n       <use x=\"63.476562\" xlink:href=\"#DejaVuSans-116\"/>\n       <use x=\"102.685547\" xlink:href=\"#DejaVuSans-101\"/>\n       <use x=\"164.208984\" xlink:href=\"#DejaVuSans-108\"/>\n       <use x=\"191.992188\" xlink:href=\"#DejaVuSans-97\"/>\n       <use x=\"253.271484\" xlink:href=\"#DejaVuSans-115\"/>\n       <use x=\"305.371094\" xlink:href=\"#DejaVuSans-121\"/>\n       <use x=\"364.550781\" xlink:href=\"#DejaVuSans-110\"/>\n      </g>\n     </g>\n    </g>\n    <g id=\"xtick_10\">\n     <g id=\"line2d_10\">\n      <g>\n       <use style=\"stroke:#000000;stroke-width:0.8;\" x=\"365.025625\" xlink:href=\"#m3b3ebddd29\" y=\"239.758125\"/>\n      </g>\n     </g>\n     <g id=\"text_10\">\n      <!-- Zoniferol -->\n      <g transform=\"translate(367.785 291.29875)rotate(-90)scale(0.1 -0.1)\">\n       <defs>\n        <path d=\"M 5.609375 72.90625 \nL 62.890625 72.90625 \nL 62.890625 65.375 \nL 16.796875 8.296875 \nL 64.015625 8.296875 \nL 64.015625 0 \nL 4.5 0 \nL 4.5 7.515625 \nL 50.59375 64.59375 \nL 5.609375 64.59375 \nz\n\" id=\"DejaVuSans-90\"/>\n       </defs>\n       <use xlink:href=\"#DejaVuSans-90\"/>\n       <use x=\"68.505859\" xlink:href=\"#DejaVuSans-111\"/>\n       <use x=\"129.6875\" xlink:href=\"#DejaVuSans-110\"/>\n       <use x=\"193.066406\" xlink:href=\"#DejaVuSans-105\"/>\n       <use x=\"220.849609\" xlink:href=\"#DejaVuSans-102\"/>\n       <use x=\"256.054688\" xlink:href=\"#DejaVuSans-101\"/>\n       <use x=\"317.578125\" xlink:href=\"#DejaVuSans-114\"/>\n       <use x=\"356.441406\" xlink:href=\"#DejaVuSans-111\"/>\n       <use x=\"417.623047\" xlink:href=\"#DejaVuSans-108\"/>\n      </g>\n     </g>\n    </g>\n    <g id=\"text_11\">\n     <!-- Drug Regimen -->\n     <g transform=\"translate(178.523438 311.906563)scale(0.1 -0.1)\">\n      <defs>\n       <path d=\"M 19.671875 64.796875 \nL 19.671875 8.109375 \nL 31.59375 8.109375 \nQ 46.6875 8.109375 53.6875 14.9375 \nQ 60.6875 21.78125 60.6875 36.53125 \nQ 60.6875 51.171875 53.6875 57.984375 \nQ 46.6875 64.796875 31.59375 64.796875 \nz\nM 9.8125 72.90625 \nL 30.078125 72.90625 \nQ 51.265625 72.90625 61.171875 64.09375 \nQ 71.09375 55.28125 71.09375 36.53125 \nQ 71.09375 17.671875 61.125 8.828125 \nQ 51.171875 0 30.078125 0 \nL 9.8125 0 \nz\n\" id=\"DejaVuSans-68\"/>\n       <path d=\"M 45.40625 27.984375 \nQ 45.40625 37.75 41.375 43.109375 \nQ 37.359375 48.484375 30.078125 48.484375 \nQ 22.859375 48.484375 18.828125 43.109375 \nQ 14.796875 37.75 14.796875 27.984375 \nQ 14.796875 18.265625 18.828125 12.890625 \nQ 22.859375 7.515625 30.078125 7.515625 \nQ 37.359375 7.515625 41.375 12.890625 \nQ 45.40625 18.265625 45.40625 27.984375 \nz\nM 54.390625 6.78125 \nQ 54.390625 -7.171875 48.1875 -13.984375 \nQ 42 -20.796875 29.203125 -20.796875 \nQ 24.46875 -20.796875 20.265625 -20.09375 \nQ 16.0625 -19.390625 12.109375 -17.921875 \nL 12.109375 -9.1875 \nQ 16.0625 -11.328125 19.921875 -12.34375 \nQ 23.78125 -13.375 27.78125 -13.375 \nQ 36.625 -13.375 41.015625 -8.765625 \nQ 45.40625 -4.15625 45.40625 5.171875 \nL 45.40625 9.625 \nQ 42.625 4.78125 38.28125 2.390625 \nQ 33.9375 0 27.875 0 \nQ 17.828125 0 11.671875 7.65625 \nQ 5.515625 15.328125 5.515625 27.984375 \nQ 5.515625 40.671875 11.671875 48.328125 \nQ 17.828125 56 27.875 56 \nQ 33.9375 56 38.28125 53.609375 \nQ 42.625 51.21875 45.40625 46.390625 \nL 45.40625 54.6875 \nL 54.390625 54.6875 \nz\n\" id=\"DejaVuSans-103\"/>\n       <path id=\"DejaVuSans-32\"/>\n      </defs>\n      <use xlink:href=\"#DejaVuSans-68\"/>\n      <use x=\"77.001953\" xlink:href=\"#DejaVuSans-114\"/>\n      <use x=\"118.115234\" xlink:href=\"#DejaVuSans-117\"/>\n      <use x=\"181.494141\" xlink:href=\"#DejaVuSans-103\"/>\n      <use x=\"244.970703\" xlink:href=\"#DejaVuSans-32\"/>\n      <use x=\"276.757812\" xlink:href=\"#DejaVuSans-82\"/>\n      <use x=\"341.740234\" xlink:href=\"#DejaVuSans-101\"/>\n      <use x=\"403.263672\" xlink:href=\"#DejaVuSans-103\"/>\n      <use x=\"466.740234\" xlink:href=\"#DejaVuSans-105\"/>\n      <use x=\"494.523438\" xlink:href=\"#DejaVuSans-109\"/>\n      <use x=\"591.935547\" xlink:href=\"#DejaVuSans-101\"/>\n      <use x=\"653.458984\" xlink:href=\"#DejaVuSans-110\"/>\n     </g>\n    </g>\n   </g>\n   <g id=\"matplotlib.axis_2\">\n    <g id=\"ytick_1\">\n     <g id=\"line2d_11\">\n      <defs>\n       <path d=\"M 0 0 \nL -3.5 0 \n\" id=\"mb1e33fe5db\" style=\"stroke:#000000;stroke-width:0.8;\"/>\n      </defs>\n      <g>\n       <use style=\"stroke:#000000;stroke-width:0.8;\" x=\"46.965625\" xlink:href=\"#mb1e33fe5db\" y=\"239.758125\"/>\n      </g>\n     </g>\n     <g id=\"text_12\">\n      <!-- 0 -->\n      <g transform=\"translate(33.603125 243.557344)scale(0.1 -0.1)\">\n       <defs>\n        <path d=\"M 31.78125 66.40625 \nQ 24.171875 66.40625 20.328125 58.90625 \nQ 16.5 51.421875 16.5 36.375 \nQ 16.5 21.390625 20.328125 13.890625 \nQ 24.171875 6.390625 31.78125 6.390625 \nQ 39.453125 6.390625 43.28125 13.890625 \nQ 47.125 21.390625 47.125 36.375 \nQ 47.125 51.421875 43.28125 58.90625 \nQ 39.453125 66.40625 31.78125 66.40625 \nz\nM 31.78125 74.21875 \nQ 44.046875 74.21875 50.515625 64.515625 \nQ 56.984375 54.828125 56.984375 36.375 \nQ 56.984375 17.96875 50.515625 8.265625 \nQ 44.046875 -1.421875 31.78125 -1.421875 \nQ 19.53125 -1.421875 13.0625 8.265625 \nQ 6.59375 17.96875 6.59375 36.375 \nQ 6.59375 54.828125 13.0625 64.515625 \nQ 19.53125 74.21875 31.78125 74.21875 \nz\n\" id=\"DejaVuSans-48\"/>\n       </defs>\n       <use xlink:href=\"#DejaVuSans-48\"/>\n      </g>\n     </g>\n    </g>\n    <g id=\"ytick_2\">\n     <g id=\"line2d_12\">\n      <g>\n       <use style=\"stroke:#000000;stroke-width:0.8;\" x=\"46.965625\" xlink:href=\"#mb1e33fe5db\" y=\"194.739491\"/>\n      </g>\n     </g>\n     <g id=\"text_13\">\n      <!-- 50 -->\n      <g transform=\"translate(27.240625 198.53871)scale(0.1 -0.1)\">\n       <defs>\n        <path d=\"M 10.796875 72.90625 \nL 49.515625 72.90625 \nL 49.515625 64.59375 \nL 19.828125 64.59375 \nL 19.828125 46.734375 \nQ 21.96875 47.46875 24.109375 47.828125 \nQ 26.265625 48.1875 28.421875 48.1875 \nQ 40.625 48.1875 47.75 41.5 \nQ 54.890625 34.8125 54.890625 23.390625 \nQ 54.890625 11.625 47.5625 5.09375 \nQ 40.234375 -1.421875 26.90625 -1.421875 \nQ 22.3125 -1.421875 17.546875 -0.640625 \nQ 12.796875 0.140625 7.71875 1.703125 \nL 7.71875 11.625 \nQ 12.109375 9.234375 16.796875 8.0625 \nQ 21.484375 6.890625 26.703125 6.890625 \nQ 35.15625 6.890625 40.078125 11.328125 \nQ 45.015625 15.765625 45.015625 23.390625 \nQ 45.015625 31 40.078125 35.4375 \nQ 35.15625 39.890625 26.703125 39.890625 \nQ 22.75 39.890625 18.8125 39.015625 \nQ 14.890625 38.140625 10.796875 36.28125 \nz\n\" id=\"DejaVuSans-53\"/>\n       </defs>\n       <use xlink:href=\"#DejaVuSans-53\"/>\n       <use x=\"63.623047\" xlink:href=\"#DejaVuSans-48\"/>\n      </g>\n     </g>\n    </g>\n    <g id=\"ytick_3\">\n     <g id=\"line2d_13\">\n      <g>\n       <use style=\"stroke:#000000;stroke-width:0.8;\" x=\"46.965625\" xlink:href=\"#mb1e33fe5db\" y=\"149.720858\"/>\n      </g>\n     </g>\n     <g id=\"text_14\">\n      <!-- 100 -->\n      <g transform=\"translate(20.878125 153.520077)scale(0.1 -0.1)\">\n       <defs>\n        <path d=\"M 12.40625 8.296875 \nL 28.515625 8.296875 \nL 28.515625 63.921875 \nL 10.984375 60.40625 \nL 10.984375 69.390625 \nL 28.421875 72.90625 \nL 38.28125 72.90625 \nL 38.28125 8.296875 \nL 54.390625 8.296875 \nL 54.390625 0 \nL 12.40625 0 \nz\n\" id=\"DejaVuSans-49\"/>\n       </defs>\n       <use xlink:href=\"#DejaVuSans-49\"/>\n       <use x=\"63.623047\" xlink:href=\"#DejaVuSans-48\"/>\n       <use x=\"127.246094\" xlink:href=\"#DejaVuSans-48\"/>\n      </g>\n     </g>\n    </g>\n    <g id=\"ytick_4\">\n     <g id=\"line2d_14\">\n      <g>\n       <use style=\"stroke:#000000;stroke-width:0.8;\" x=\"46.965625\" xlink:href=\"#mb1e33fe5db\" y=\"104.702224\"/>\n      </g>\n     </g>\n     <g id=\"text_15\">\n      <!-- 150 -->\n      <g transform=\"translate(20.878125 108.501443)scale(0.1 -0.1)\">\n       <use xlink:href=\"#DejaVuSans-49\"/>\n       <use x=\"63.623047\" xlink:href=\"#DejaVuSans-53\"/>\n       <use x=\"127.246094\" xlink:href=\"#DejaVuSans-48\"/>\n      </g>\n     </g>\n    </g>\n    <g id=\"ytick_5\">\n     <g id=\"line2d_15\">\n      <g>\n       <use style=\"stroke:#000000;stroke-width:0.8;\" x=\"46.965625\" xlink:href=\"#mb1e33fe5db\" y=\"59.683591\"/>\n      </g>\n     </g>\n     <g id=\"text_16\">\n      <!-- 200 -->\n      <g transform=\"translate(20.878125 63.48281)scale(0.1 -0.1)\">\n       <defs>\n        <path d=\"M 19.1875 8.296875 \nL 53.609375 8.296875 \nL 53.609375 0 \nL 7.328125 0 \nL 7.328125 8.296875 \nQ 12.9375 14.109375 22.625 23.890625 \nQ 32.328125 33.6875 34.8125 36.53125 \nQ 39.546875 41.84375 41.421875 45.53125 \nQ 43.3125 49.21875 43.3125 52.78125 \nQ 43.3125 58.59375 39.234375 62.25 \nQ 35.15625 65.921875 28.609375 65.921875 \nQ 23.96875 65.921875 18.8125 64.3125 \nQ 13.671875 62.703125 7.8125 59.421875 \nL 7.8125 69.390625 \nQ 13.765625 71.78125 18.9375 73 \nQ 24.125 74.21875 28.421875 74.21875 \nQ 39.75 74.21875 46.484375 68.546875 \nQ 53.21875 62.890625 53.21875 53.421875 \nQ 53.21875 48.921875 51.53125 44.890625 \nQ 49.859375 40.875 45.40625 35.40625 \nQ 44.1875 33.984375 37.640625 27.21875 \nQ 31.109375 20.453125 19.1875 8.296875 \nz\n\" id=\"DejaVuSans-50\"/>\n       </defs>\n       <use xlink:href=\"#DejaVuSans-50\"/>\n       <use x=\"63.623047\" xlink:href=\"#DejaVuSans-48\"/>\n       <use x=\"127.246094\" xlink:href=\"#DejaVuSans-48\"/>\n      </g>\n     </g>\n    </g>\n    <g id=\"text_17\">\n     <!-- Number of Measurements -->\n     <g transform=\"translate(14.798438 196.049844)rotate(-90)scale(0.1 -0.1)\">\n      <defs>\n       <path d=\"M 9.8125 72.90625 \nL 24.515625 72.90625 \nL 43.109375 23.296875 \nL 61.8125 72.90625 \nL 76.515625 72.90625 \nL 76.515625 0 \nL 66.890625 0 \nL 66.890625 64.015625 \nL 48.09375 14.015625 \nL 38.1875 14.015625 \nL 19.390625 64.015625 \nL 19.390625 0 \nL 9.8125 0 \nz\n\" id=\"DejaVuSans-77\"/>\n      </defs>\n      <use xlink:href=\"#DejaVuSans-78\"/>\n      <use x=\"74.804688\" xlink:href=\"#DejaVuSans-117\"/>\n      <use x=\"138.183594\" xlink:href=\"#DejaVuSans-109\"/>\n      <use x=\"235.595703\" xlink:href=\"#DejaVuSans-98\"/>\n      <use x=\"299.072266\" xlink:href=\"#DejaVuSans-101\"/>\n      <use x=\"360.595703\" xlink:href=\"#DejaVuSans-114\"/>\n      <use x=\"401.708984\" xlink:href=\"#DejaVuSans-32\"/>\n      <use x=\"433.496094\" xlink:href=\"#DejaVuSans-111\"/>\n      <use x=\"494.677734\" xlink:href=\"#DejaVuSans-102\"/>\n      <use x=\"529.882812\" xlink:href=\"#DejaVuSans-32\"/>\n      <use x=\"561.669922\" xlink:href=\"#DejaVuSans-77\"/>\n      <use x=\"647.949219\" xlink:href=\"#DejaVuSans-101\"/>\n      <use x=\"709.472656\" xlink:href=\"#DejaVuSans-97\"/>\n      <use x=\"770.751953\" xlink:href=\"#DejaVuSans-115\"/>\n      <use x=\"822.851562\" xlink:href=\"#DejaVuSans-117\"/>\n      <use x=\"886.230469\" xlink:href=\"#DejaVuSans-114\"/>\n      <use x=\"925.09375\" xlink:href=\"#DejaVuSans-101\"/>\n      <use x=\"986.617188\" xlink:href=\"#DejaVuSans-109\"/>\n      <use x=\"1084.029297\" xlink:href=\"#DejaVuSans-101\"/>\n      <use x=\"1145.552734\" xlink:href=\"#DejaVuSans-110\"/>\n      <use x=\"1208.931641\" xlink:href=\"#DejaVuSans-116\"/>\n      <use x=\"1248.140625\" xlink:href=\"#DejaVuSans-115\"/>\n     </g>\n    </g>\n   </g>\n   <g id=\"patch_13\">\n    <path d=\"M 46.965625 239.758125 \nL 46.965625 22.318125 \n\" style=\"fill:none;stroke:#000000;stroke-linecap:square;stroke-linejoin:miter;stroke-width:0.8;\"/>\n   </g>\n   <g id=\"patch_14\">\n    <path d=\"M 381.765625 239.758125 \nL 381.765625 22.318125 \n\" style=\"fill:none;stroke:#000000;stroke-linecap:square;stroke-linejoin:miter;stroke-width:0.8;\"/>\n   </g>\n   <g id=\"patch_15\">\n    <path d=\"M 46.965625 239.758125 \nL 381.765625 239.758125 \n\" style=\"fill:none;stroke:#000000;stroke-linecap:square;stroke-linejoin:miter;stroke-width:0.8;\"/>\n   </g>\n   <g id=\"patch_16\">\n    <path d=\"M 46.965625 22.318125 \nL 381.765625 22.318125 \n\" style=\"fill:none;stroke:#000000;stroke-linecap:square;stroke-linejoin:miter;stroke-width:0.8;\"/>\n   </g>\n   <g id=\"text_18\">\n    <!-- Number of Measurements per Regimen -->\n    <g transform=\"translate(96.164688 16.318125)scale(0.12 -0.12)\">\n     <use xlink:href=\"#DejaVuSans-78\"/>\n     <use x=\"74.804688\" xlink:href=\"#DejaVuSans-117\"/>\n     <use x=\"138.183594\" xlink:href=\"#DejaVuSans-109\"/>\n     <use x=\"235.595703\" xlink:href=\"#DejaVuSans-98\"/>\n     <use x=\"299.072266\" xlink:href=\"#DejaVuSans-101\"/>\n     <use x=\"360.595703\" xlink:href=\"#DejaVuSans-114\"/>\n     <use x=\"401.708984\" xlink:href=\"#DejaVuSans-32\"/>\n     <use x=\"433.496094\" xlink:href=\"#DejaVuSans-111\"/>\n     <use x=\"494.677734\" xlink:href=\"#DejaVuSans-102\"/>\n     <use x=\"529.882812\" xlink:href=\"#DejaVuSans-32\"/>\n     <use x=\"561.669922\" xlink:href=\"#DejaVuSans-77\"/>\n     <use x=\"647.949219\" xlink:href=\"#DejaVuSans-101\"/>\n     <use x=\"709.472656\" xlink:href=\"#DejaVuSans-97\"/>\n     <use x=\"770.751953\" xlink:href=\"#DejaVuSans-115\"/>\n     <use x=\"822.851562\" xlink:href=\"#DejaVuSans-117\"/>\n     <use x=\"886.230469\" xlink:href=\"#DejaVuSans-114\"/>\n     <use x=\"925.09375\" xlink:href=\"#DejaVuSans-101\"/>\n     <use x=\"986.617188\" xlink:href=\"#DejaVuSans-109\"/>\n     <use x=\"1084.029297\" xlink:href=\"#DejaVuSans-101\"/>\n     <use x=\"1145.552734\" xlink:href=\"#DejaVuSans-110\"/>\n     <use x=\"1208.931641\" xlink:href=\"#DejaVuSans-116\"/>\n     <use x=\"1248.140625\" xlink:href=\"#DejaVuSans-115\"/>\n     <use x=\"1300.240234\" xlink:href=\"#DejaVuSans-32\"/>\n     <use x=\"1332.027344\" xlink:href=\"#DejaVuSans-112\"/>\n     <use x=\"1395.503906\" xlink:href=\"#DejaVuSans-101\"/>\n     <use x=\"1457.027344\" xlink:href=\"#DejaVuSans-114\"/>\n     <use x=\"1498.140625\" xlink:href=\"#DejaVuSans-32\"/>\n     <use x=\"1529.927734\" xlink:href=\"#DejaVuSans-82\"/>\n     <use x=\"1594.910156\" xlink:href=\"#DejaVuSans-101\"/>\n     <use x=\"1656.433594\" xlink:href=\"#DejaVuSans-103\"/>\n     <use x=\"1719.910156\" xlink:href=\"#DejaVuSans-105\"/>\n     <use x=\"1747.693359\" xlink:href=\"#DejaVuSans-109\"/>\n     <use x=\"1845.105469\" xlink:href=\"#DejaVuSans-101\"/>\n     <use x=\"1906.628906\" xlink:href=\"#DejaVuSans-110\"/>\n    </g>\n   </g>\n  </g>\n </g>\n <defs>\n  <clipPath id=\"pc3b4c872a7\">\n   <rect height=\"217.44\" width=\"334.8\" x=\"46.965625\" y=\"22.318125\"/>\n  </clipPath>\n </defs>\n</svg>\n",
      "image/png": "[encoded data removed]"
     },
     "metadata": {
      "needs_background": "light"
     }
    }
   ],
   "source": [
    "#Bar Plot Showing Number of Measurements per Regimen using Pandas\n",
    "Regimen_Measurements.plot(kind=\"bar\")\n",
    "\n",
    "#Chart Labels\n",
    "plt.title(\"Number of Measurements per Regimen\")\n",
    "plt.xlabel(\"Drug Regimen\")\n",
    "plt.ylabel(\"Number of Measurements\")\n",
    "\n",
    "#Chart\n",
    "plt.show()"
   ]
  },
  {
   "cell_type": "code",
   "execution_count": 53,
   "metadata": {},
   "outputs": [
    {
     "output_type": "error",
     "ename": "AttributeError",
     "evalue": "'Index' object has no attribute 'value'",
     "traceback": [
      "\u001b[0;31m---------------------------------------------------------------------------\u001b[0m",
      "\u001b[0;31mAttributeError\u001b[0m                            Traceback (most recent call last)",
      "\u001b[0;32m<ipython-input-53-09ad6839dd0b>\u001b[0m in \u001b[0;36m<module>\u001b[0;34m\u001b[0m\n\u001b[1;32m      2\u001b[0m \u001b[0mx_axis\u001b[0m\u001b[0;34m=\u001b[0m\u001b[0mnp\u001b[0m\u001b[0;34m.\u001b[0m\u001b[0marange\u001b[0m\u001b[0;34m(\u001b[0m\u001b[0mlen\u001b[0m\u001b[0;34m(\u001b[0m\u001b[0mRegimen_Measurements\u001b[0m\u001b[0;34m)\u001b[0m\u001b[0;34m)\u001b[0m\u001b[0;34m\u001b[0m\u001b[0;34m\u001b[0m\u001b[0m\n\u001b[1;32m      3\u001b[0m \u001b[0mDrug_Regimen\u001b[0m\u001b[0;34m=\u001b[0m\u001b[0mClean_Mouse\u001b[0m\u001b[0;34m[\u001b[0m\u001b[0;34m'Drug Regimen'\u001b[0m\u001b[0;34m]\u001b[0m\u001b[0;34m.\u001b[0m\u001b[0mvalue_counts\u001b[0m\u001b[0;34m(\u001b[0m\u001b[0;34m)\u001b[0m\u001b[0;34m\u001b[0m\u001b[0;34m\u001b[0m\u001b[0m\n\u001b[0;32m----> 4\u001b[0;31m \u001b[0mplt\u001b[0m\u001b[0;34m.\u001b[0m\u001b[0mbar\u001b[0m\u001b[0;34m(\u001b[0m\u001b[0mDrug_Regimen\u001b[0m\u001b[0;34m.\u001b[0m\u001b[0mindex\u001b[0m\u001b[0;34m.\u001b[0m\u001b[0mvalue\u001b[0m\u001b[0;34m,\u001b[0m\u001b[0mDrug_Regimen\u001b[0m\u001b[0;34m.\u001b[0m\u001b[0mvalues\u001b[0m\u001b[0;34m)\u001b[0m\u001b[0;34m\u001b[0m\u001b[0;34m\u001b[0m\u001b[0m\n\u001b[0m\u001b[1;32m      5\u001b[0m \u001b[0mplt\u001b[0m\u001b[0;34m.\u001b[0m\u001b[0mshow\u001b[0m\u001b[0;34m(\u001b[0m\u001b[0;34m)\u001b[0m\u001b[0;34m\u001b[0m\u001b[0;34m\u001b[0m\u001b[0m\n\u001b[1;32m      6\u001b[0m \u001b[0;34m\u001b[0m\u001b[0m\n",
      "\u001b[0;31mAttributeError\u001b[0m: 'Index' object has no attribute 'value'"
     ]
    }
   ],
   "source": [
    "#Bar Plot Showing Number of Measurements per Regimen using Numplotlib\n",
    "x_axis=np.arange(len(Regimen_Measurements))\n",
    "Drug_Regimen=Clean_Mouse['Drug Regimen'].value_counts()\n",
    "plt.bar(Drug_Regimen.index.value,Drug_Regimen.values)\n",
    "plt.show()\n",
    "\n",
    "##['Capomulin', 'Ceftamin', 'Infubinol', 'Ketapril', 'Naftisol', 'Placebo', 'Propriva', 'Ramicane', 'Stelasyn', 'Zoniferol']\n",
    "#tick_locations= []\n",
    "#for x in x_axis:\n",
    " #   tick_locations.append(x)\n",
    "\n",
    "#Chart Labels and Setup \n",
    "plt.figure(figsize=(15,4))\n",
    "plt.title(\"Number of Measurements per Regimen\")\n",
    "plt.xlabel(\"Drug Regimen\")\n",
    "plt.ylabel(\"Number of Measurements\") \n",
    "plt.bar(x_axis, Regimen_Measurements, facecolor=\"red\", alpha=1.00, align=\"center\")\n",
    "plt.xticks(tick_locations, Drug_Regimen)"
   ]
  },
  {
   "cell_type": "code",
   "execution_count": 47,
   "metadata": {},
   "outputs": [
    {
     "output_type": "stream",
     "name": "stdout",
     "text": [
      "Male      958\nFemale    922\nName: Sex, dtype: int64\n"
     ]
    },
    {
     "output_type": "display_data",
     "data": {
      "text/plain": "<Figure size 432x288 with 1 Axes>",
      "image/svg+xml": "<?xml version=\"1.0\" encoding=\"utf-8\" standalone=\"no\"?>\n<!DOCTYPE svg PUBLIC \"-//W3C//DTD SVG 1.1//EN\"\n  \"http://www.w3.org/Graphics/SVG/1.1/DTD/svg11.dtd\">\n<!-- Created with matplotlib (https://matplotlib.org/) -->\n<svg height=\"231.84pt\" version=\"1.1\" viewBox=\"0 0 231.84 231.84\" width=\"231.84pt\" xmlns=\"http://www.w3.org/2000/svg\" xmlns:xlink=\"http://www.w3.org/1999/xlink\">\n <metadata>\n  <rdf:RDF xmlns:cc=\"http://creativecommons.org/ns#\" xmlns:dc=\"http://purl.org/dc/elements/1.1/\" xmlns:rdf=\"http://www.w3.org/1999/02/22-rdf-syntax-ns#\">\n   <cc:Work>\n    <dc:type rdf:resource=\"http://purl.org/dc/dcmitype/StillImage\"/>\n    <dc:date>2021-04-18T15:33:08.088494</dc:date>\n    <dc:format>image/svg+xml</dc:format>\n    <dc:creator>\n     <cc:Agent>\n      <dc:title>Matplotlib v3.3.2, https://matplotlib.org/</dc:title>\n     </cc:Agent>\n    </dc:creator>\n   </cc:Work>\n  </rdf:RDF>\n </metadata>\n <defs>\n  <style type=\"text/css\">*{stroke-linecap:butt;stroke-linejoin:round;}</style>\n </defs>\n <g id=\"figure_1\">\n  <g id=\"patch_1\">\n   <path d=\"M 0 231.84 \nL 231.84 231.84 \nL 231.84 0 \nL 0 0 \nz\n\" style=\"fill:none;\"/>\n  </g>\n  <g id=\"axes_1\">\n   <g id=\"patch_2\">\n    <path d=\"M 202.896 115.92 \nC 202.896 104.278274 200.558635 92.754166 196.022786 82.032419 \nC 191.486938 71.310671 184.84426 61.607931 176.489447 53.500719 \nC 168.134634 45.393506 158.236508 39.045638 147.383197 34.834293 \nC 136.529886 30.622949 124.940695 28.633223 113.304235 28.983343 \nC 101.667775 29.333463 90.219175 32.016353 79.638691 36.872601 \nC 69.058208 41.72885 59.559632 48.660329 51.707354 57.255183 \nC 43.855076 65.850038 37.807761 75.934596 33.92473 86.909652 \nC 30.041699 97.884708 28.401413 109.528496 29.101336 121.149163 \nL 115.92 115.92 \nL 202.896 115.92 \nz\n\" style=\"fill:#1f77b4;\"/>\n   </g>\n   <g id=\"patch_3\">\n    <path d=\"M 29.101336 121.149163 \nC 30.460482 143.714778 40.565248 164.884684 57.255183 180.132646 \nC 73.945118 195.380608 95.939481 203.536538 118.535765 202.856657 \nC 141.132048 202.176776 162.596274 192.713257 178.339281 176.489447 \nC 194.082288 160.265637 202.896 138.526509 202.896 115.92 \nL 115.92 115.92 \nL 29.101336 121.149163 \nz\n\" style=\"fill:#ff7f0e;\"/>\n   </g>\n   <g id=\"matplotlib.axis_1\"/>\n   <g id=\"matplotlib.axis_2\"/>\n   <g id=\"text_1\">\n    <!-- Male -->\n    <g transform=\"translate(89.355159 23.049052)scale(0.1 -0.1)\">\n     <defs>\n      <path d=\"M 9.8125 72.90625 \nL 24.515625 72.90625 \nL 43.109375 23.296875 \nL 61.8125 72.90625 \nL 76.515625 72.90625 \nL 76.515625 0 \nL 66.890625 0 \nL 66.890625 64.015625 \nL 48.09375 14.015625 \nL 38.1875 14.015625 \nL 19.390625 64.015625 \nL 19.390625 0 \nL 9.8125 0 \nz\n\" id=\"DejaVuSans-77\"/>\n      <path d=\"M 34.28125 27.484375 \nQ 23.390625 27.484375 19.1875 25 \nQ 14.984375 22.515625 14.984375 16.5 \nQ 14.984375 11.71875 18.140625 8.90625 \nQ 21.296875 6.109375 26.703125 6.109375 \nQ 34.1875 6.109375 38.703125 11.40625 \nQ 43.21875 16.703125 43.21875 25.484375 \nL 43.21875 27.484375 \nz\nM 52.203125 31.203125 \nL 52.203125 0 \nL 43.21875 0 \nL 43.21875 8.296875 \nQ 40.140625 3.328125 35.546875 0.953125 \nQ 30.953125 -1.421875 24.3125 -1.421875 \nQ 15.921875 -1.421875 10.953125 3.296875 \nQ 6 8.015625 6 15.921875 \nQ 6 25.140625 12.171875 29.828125 \nQ 18.359375 34.515625 30.609375 34.515625 \nL 43.21875 34.515625 \nL 43.21875 35.40625 \nQ 43.21875 41.609375 39.140625 45 \nQ 35.0625 48.390625 27.6875 48.390625 \nQ 23 48.390625 18.546875 47.265625 \nQ 14.109375 46.140625 10.015625 43.890625 \nL 10.015625 52.203125 \nQ 14.9375 54.109375 19.578125 55.046875 \nQ 24.21875 56 28.609375 56 \nQ 40.484375 56 46.34375 49.84375 \nQ 52.203125 43.703125 52.203125 31.203125 \nz\n\" id=\"DejaVuSans-97\"/>\n      <path d=\"M 9.421875 75.984375 \nL 18.40625 75.984375 \nL 18.40625 0 \nL 9.421875 0 \nz\n\" id=\"DejaVuSans-108\"/>\n      <path d=\"M 56.203125 29.59375 \nL 56.203125 25.203125 \nL 14.890625 25.203125 \nQ 15.484375 15.921875 20.484375 11.0625 \nQ 25.484375 6.203125 34.421875 6.203125 \nQ 39.59375 6.203125 44.453125 7.46875 \nQ 49.3125 8.734375 54.109375 11.28125 \nL 54.109375 2.78125 \nQ 49.265625 0.734375 44.1875 -0.34375 \nQ 39.109375 -1.421875 33.890625 -1.421875 \nQ 20.796875 -1.421875 13.15625 6.1875 \nQ 5.515625 13.8125 5.515625 26.8125 \nQ 5.515625 40.234375 12.765625 48.109375 \nQ 20.015625 56 32.328125 56 \nQ 43.359375 56 49.78125 48.890625 \nQ 56.203125 41.796875 56.203125 29.59375 \nz\nM 47.21875 32.234375 \nQ 47.125 39.59375 43.09375 43.984375 \nQ 39.0625 48.390625 32.421875 48.390625 \nQ 24.90625 48.390625 20.390625 44.140625 \nQ 15.875 39.890625 15.1875 32.171875 \nz\n\" id=\"DejaVuSans-101\"/>\n     </defs>\n     <use xlink:href=\"#DejaVuSans-77\"/>\n     <use x=\"86.279297\" xlink:href=\"#DejaVuSans-97\"/>\n     <use x=\"147.558594\" xlink:href=\"#DejaVuSans-108\"/>\n     <use x=\"175.341797\" xlink:href=\"#DejaVuSans-101\"/>\n    </g>\n   </g>\n   <g id=\"text_2\">\n    <!-- 51.0% -->\n    <g transform=\"translate(98.466947 66.517381)scale(0.1 -0.1)\">\n     <defs>\n      <path d=\"M 10.796875 72.90625 \nL 49.515625 72.90625 \nL 49.515625 64.59375 \nL 19.828125 64.59375 \nL 19.828125 46.734375 \nQ 21.96875 47.46875 24.109375 47.828125 \nQ 26.265625 48.1875 28.421875 48.1875 \nQ 40.625 48.1875 47.75 41.5 \nQ 54.890625 34.8125 54.890625 23.390625 \nQ 54.890625 11.625 47.5625 5.09375 \nQ 40.234375 -1.421875 26.90625 -1.421875 \nQ 22.3125 -1.421875 17.546875 -0.640625 \nQ 12.796875 0.140625 7.71875 1.703125 \nL 7.71875 11.625 \nQ 12.109375 9.234375 16.796875 8.0625 \nQ 21.484375 6.890625 26.703125 6.890625 \nQ 35.15625 6.890625 40.078125 11.328125 \nQ 45.015625 15.765625 45.015625 23.390625 \nQ 45.015625 31 40.078125 35.4375 \nQ 35.15625 39.890625 26.703125 39.890625 \nQ 22.75 39.890625 18.8125 39.015625 \nQ 14.890625 38.140625 10.796875 36.28125 \nz\n\" id=\"DejaVuSans-53\"/>\n      <path d=\"M 12.40625 8.296875 \nL 28.515625 8.296875 \nL 28.515625 63.921875 \nL 10.984375 60.40625 \nL 10.984375 69.390625 \nL 28.421875 72.90625 \nL 38.28125 72.90625 \nL 38.28125 8.296875 \nL 54.390625 8.296875 \nL 54.390625 0 \nL 12.40625 0 \nz\n\" id=\"DejaVuSans-49\"/>\n      <path d=\"M 10.6875 12.40625 \nL 21 12.40625 \nL 21 0 \nL 10.6875 0 \nz\n\" id=\"DejaVuSans-46\"/>\n      <path d=\"M 31.78125 66.40625 \nQ 24.171875 66.40625 20.328125 58.90625 \nQ 16.5 51.421875 16.5 36.375 \nQ 16.5 21.390625 20.328125 13.890625 \nQ 24.171875 6.390625 31.78125 6.390625 \nQ 39.453125 6.390625 43.28125 13.890625 \nQ 47.125 21.390625 47.125 36.375 \nQ 47.125 51.421875 43.28125 58.90625 \nQ 39.453125 66.40625 31.78125 66.40625 \nz\nM 31.78125 74.21875 \nQ 44.046875 74.21875 50.515625 64.515625 \nQ 56.984375 54.828125 56.984375 36.375 \nQ 56.984375 17.96875 50.515625 8.265625 \nQ 44.046875 -1.421875 31.78125 -1.421875 \nQ 19.53125 -1.421875 13.0625 8.265625 \nQ 6.59375 17.96875 6.59375 36.375 \nQ 6.59375 54.828125 13.0625 64.515625 \nQ 19.53125 74.21875 31.78125 74.21875 \nz\n\" id=\"DejaVuSans-48\"/>\n      <path d=\"M 72.703125 32.078125 \nQ 68.453125 32.078125 66.03125 28.46875 \nQ 63.625 24.859375 63.625 18.40625 \nQ 63.625 12.0625 66.03125 8.421875 \nQ 68.453125 4.78125 72.703125 4.78125 \nQ 76.859375 4.78125 79.265625 8.421875 \nQ 81.6875 12.0625 81.6875 18.40625 \nQ 81.6875 24.8125 79.265625 28.4375 \nQ 76.859375 32.078125 72.703125 32.078125 \nz\nM 72.703125 38.28125 \nQ 80.421875 38.28125 84.953125 32.90625 \nQ 89.5 27.546875 89.5 18.40625 \nQ 89.5 9.28125 84.9375 3.921875 \nQ 80.375 -1.421875 72.703125 -1.421875 \nQ 64.890625 -1.421875 60.34375 3.921875 \nQ 55.8125 9.28125 55.8125 18.40625 \nQ 55.8125 27.59375 60.375 32.9375 \nQ 64.9375 38.28125 72.703125 38.28125 \nz\nM 22.3125 68.015625 \nQ 18.109375 68.015625 15.6875 64.375 \nQ 13.28125 60.75 13.28125 54.390625 \nQ 13.28125 47.953125 15.671875 44.328125 \nQ 18.0625 40.71875 22.3125 40.71875 \nQ 26.5625 40.71875 28.96875 44.328125 \nQ 31.390625 47.953125 31.390625 54.390625 \nQ 31.390625 60.6875 28.953125 64.34375 \nQ 26.515625 68.015625 22.3125 68.015625 \nz\nM 66.40625 74.21875 \nL 74.21875 74.21875 \nL 28.609375 -1.421875 \nL 20.796875 -1.421875 \nz\nM 22.3125 74.21875 \nQ 30.03125 74.21875 34.609375 68.875 \nQ 39.203125 63.53125 39.203125 54.390625 \nQ 39.203125 45.171875 34.640625 39.84375 \nQ 30.078125 34.515625 22.3125 34.515625 \nQ 14.546875 34.515625 10.03125 39.859375 \nQ 5.515625 45.21875 5.515625 54.390625 \nQ 5.515625 63.484375 10.046875 68.84375 \nQ 14.59375 74.21875 22.3125 74.21875 \nz\n\" id=\"DejaVuSans-37\"/>\n     </defs>\n     <use xlink:href=\"#DejaVuSans-53\"/>\n     <use x=\"63.623047\" xlink:href=\"#DejaVuSans-49\"/>\n     <use x=\"127.246094\" xlink:href=\"#DejaVuSans-46\"/>\n     <use x=\"159.033203\" xlink:href=\"#DejaVuSans-48\"/>\n     <use x=\"222.65625\" xlink:href=\"#DejaVuSans-37\"/>\n    </g>\n   </g>\n   <g id=\"text_3\">\n    <!-- Female -->\n    <g transform=\"translate(118.797341 214.309698)scale(0.1 -0.1)\">\n     <defs>\n      <path d=\"M 9.8125 72.90625 \nL 51.703125 72.90625 \nL 51.703125 64.59375 \nL 19.671875 64.59375 \nL 19.671875 43.109375 \nL 48.578125 43.109375 \nL 48.578125 34.8125 \nL 19.671875 34.8125 \nL 19.671875 0 \nL 9.8125 0 \nz\n\" id=\"DejaVuSans-70\"/>\n      <path d=\"M 52 44.1875 \nQ 55.375 50.25 60.0625 53.125 \nQ 64.75 56 71.09375 56 \nQ 79.640625 56 84.28125 50.015625 \nQ 88.921875 44.046875 88.921875 33.015625 \nL 88.921875 0 \nL 79.890625 0 \nL 79.890625 32.71875 \nQ 79.890625 40.578125 77.09375 44.375 \nQ 74.3125 48.1875 68.609375 48.1875 \nQ 61.625 48.1875 57.5625 43.546875 \nQ 53.515625 38.921875 53.515625 30.90625 \nL 53.515625 0 \nL 44.484375 0 \nL 44.484375 32.71875 \nQ 44.484375 40.625 41.703125 44.40625 \nQ 38.921875 48.1875 33.109375 48.1875 \nQ 26.21875 48.1875 22.15625 43.53125 \nQ 18.109375 38.875 18.109375 30.90625 \nL 18.109375 0 \nL 9.078125 0 \nL 9.078125 54.6875 \nL 18.109375 54.6875 \nL 18.109375 46.1875 \nQ 21.1875 51.21875 25.484375 53.609375 \nQ 29.78125 56 35.6875 56 \nQ 41.65625 56 45.828125 52.96875 \nQ 50 49.953125 52 44.1875 \nz\n\" id=\"DejaVuSans-109\"/>\n     </defs>\n     <use xlink:href=\"#DejaVuSans-70\"/>\n     <use x=\"52.019531\" xlink:href=\"#DejaVuSans-101\"/>\n     <use x=\"113.542969\" xlink:href=\"#DejaVuSans-109\"/>\n     <use x=\"210.955078\" xlink:href=\"#DejaVuSans-97\"/>\n     <use x=\"272.234375\" xlink:href=\"#DejaVuSans-108\"/>\n     <use x=\"300.017578\" xlink:href=\"#DejaVuSans-101\"/>\n    </g>\n   </g>\n   <g id=\"text_4\">\n    <!-- 49.0% -->\n    <g transform=\"translate(101.605865 170.841369)scale(0.1 -0.1)\">\n     <defs>\n      <path d=\"M 37.796875 64.3125 \nL 12.890625 25.390625 \nL 37.796875 25.390625 \nz\nM 35.203125 72.90625 \nL 47.609375 72.90625 \nL 47.609375 25.390625 \nL 58.015625 25.390625 \nL 58.015625 17.1875 \nL 47.609375 17.1875 \nL 47.609375 0 \nL 37.796875 0 \nL 37.796875 17.1875 \nL 4.890625 17.1875 \nL 4.890625 26.703125 \nz\n\" id=\"DejaVuSans-52\"/>\n      <path d=\"M 10.984375 1.515625 \nL 10.984375 10.5 \nQ 14.703125 8.734375 18.5 7.8125 \nQ 22.3125 6.890625 25.984375 6.890625 \nQ 35.75 6.890625 40.890625 13.453125 \nQ 46.046875 20.015625 46.78125 33.40625 \nQ 43.953125 29.203125 39.59375 26.953125 \nQ 35.25 24.703125 29.984375 24.703125 \nQ 19.046875 24.703125 12.671875 31.3125 \nQ 6.296875 37.9375 6.296875 49.421875 \nQ 6.296875 60.640625 12.9375 67.421875 \nQ 19.578125 74.21875 30.609375 74.21875 \nQ 43.265625 74.21875 49.921875 64.515625 \nQ 56.59375 54.828125 56.59375 36.375 \nQ 56.59375 19.140625 48.40625 8.859375 \nQ 40.234375 -1.421875 26.421875 -1.421875 \nQ 22.703125 -1.421875 18.890625 -0.6875 \nQ 15.09375 0.046875 10.984375 1.515625 \nz\nM 30.609375 32.421875 \nQ 37.25 32.421875 41.125 36.953125 \nQ 45.015625 41.5 45.015625 49.421875 \nQ 45.015625 57.28125 41.125 61.84375 \nQ 37.25 66.40625 30.609375 66.40625 \nQ 23.96875 66.40625 20.09375 61.84375 \nQ 16.21875 57.28125 16.21875 49.421875 \nQ 16.21875 41.5 20.09375 36.953125 \nQ 23.96875 32.421875 30.609375 32.421875 \nz\n\" id=\"DejaVuSans-57\"/>\n     </defs>\n     <use xlink:href=\"#DejaVuSans-52\"/>\n     <use x=\"63.623047\" xlink:href=\"#DejaVuSans-57\"/>\n     <use x=\"127.246094\" xlink:href=\"#DejaVuSans-46\"/>\n     <use x=\"159.033203\" xlink:href=\"#DejaVuSans-48\"/>\n     <use x=\"222.65625\" xlink:href=\"#DejaVuSans-37\"/>\n    </g>\n   </g>\n  </g>\n </g>\n</svg>\n",
      "image/png": "[encoded data removed]"
     },
     "metadata": {}
    }
   ],
   "source": [
    "# Generate a pie plot showing the distribution of female versus male mice using pandas\n",
    "Mouse_Gender=Clean_Mouse.Sex.value_counts()\n",
    "print(Mouse_Gender)\n",
    "plt.pie(Mouse_Gender.values,labels=Mouse_Gender.index.values, autopct=\"%1.1f%%\")\n",
    "plt.show()\n"
   ]
  },
  {
   "cell_type": "code",
   "execution_count": null,
   "metadata": {},
   "outputs": [],
   "source": [
    "# Generate a pie plot showing the distribution of female versus male mice using pyplot\n",
    "\n"
   ]
  },
  {
   "cell_type": "markdown",
   "metadata": {},
   "source": [
    "## Quartiles, Outliers and Boxplots"
   ]
  },
  {
   "cell_type": "code",
   "execution_count": null,
   "metadata": {},
   "outputs": [],
   "source": [
    "# Calculate the final tumor volume of each mouse across four of the treatment regimens:  \n",
    "# Capomulin, Ramicane, Infubinol, and Ceftamin\n",
    "\n",
    "# Start by getting the last (greatest) timepoint for each mouse\n",
    "\n",
    "\n",
    "# Merge this group df with the original dataframe to get the tumor volume at the last timepoint\n"
   ]
  },
  {
   "cell_type": "code",
   "execution_count": null,
   "metadata": {},
   "outputs": [],
   "source": [
    "# Put treatments into a list for for loop (and later for plot labels)\n",
    "\n",
    "\n",
    "# Create empty list to fill with tumor vol data (for plotting)\n",
    "\n",
    "\n",
    "# Calculate the IQR and quantitatively determine if there are any potential outliers. \n",
    "\n",
    "    \n",
    "    # Locate the rows which contain mice on each drug and get the tumor volumes\n",
    "    \n",
    "    \n",
    "    # add subset \n",
    "    \n",
    "    \n",
    "    # Determine outliers using upper and lower bounds\n",
    "    "
   ]
  },
  {
   "cell_type": "code",
   "execution_count": null,
   "metadata": {},
   "outputs": [],
   "source": [
    "# Generate a box plot of the final tumor volume of each mouse across four regimens of interest\n"
   ]
  },
  {
   "cell_type": "markdown",
   "metadata": {},
   "source": [
    "## Line and Scatter Plots"
   ]
  },
  {
   "cell_type": "code",
   "execution_count": null,
   "metadata": {},
   "outputs": [],
   "source": [
    "# Generate a line plot of tumor volume vs. time point for a mouse treated with Capomulin\n"
   ]
  },
  {
   "cell_type": "code",
   "execution_count": null,
   "metadata": {},
   "outputs": [],
   "source": [
    "# Generate a scatter plot of average tumor volume vs. mouse weight for the Capomulin regimen\n"
   ]
  },
  {
   "cell_type": "markdown",
   "metadata": {},
   "source": [
    "## Correlation and Regression"
   ]
  },
  {
   "cell_type": "code",
   "execution_count": null,
   "metadata": {},
   "outputs": [],
   "source": [
    "# Calculate the correlation coefficient and linear regression model \n",
    "# for mouse weight and average tumor volume for the Capomulin regimen\n"
   ]
  },
  {
   "cell_type": "code",
   "execution_count": null,
   "metadata": {},
   "outputs": [],
   "source": []
  }
 ],
 "metadata": {
  "anaconda-cloud": {},
  "kernelspec": {
   "name": "python385jvsc74a57bd0403a5d6a394a01ef26b2cc6b156171da77f8332ee7637ee8dac9f64c5d1c19b3",
   "display_name": "Python 3.8.5 64-bit ('base': conda)"
  },
  "language_info": {
   "codemirror_mode": {
    "name": "ipython",
    "version": 3
   },
   "file_extension": ".py",
   "mimetype": "text/x-python",
   "name": "python",
   "nbconvert_exporter": "python",
   "pygments_lexer": "ipython3",
   "version": "3.8.5"
  }
 },
 "nbformat": 4,
 "nbformat_minor": 4
}